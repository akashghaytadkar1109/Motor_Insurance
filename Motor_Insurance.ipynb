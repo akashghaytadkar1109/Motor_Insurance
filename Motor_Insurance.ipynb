{
  "cells": [
    {
      "cell_type": "code",
      "execution_count": null,
      "id": "cb805400",
      "metadata": {
        "id": "cb805400"
      },
      "outputs": [],
      "source": [
        "from scipy import stats\n",
        "import pandas as pd\n",
        "import numpy as np\n",
        "import matplotlib.pyplot as plt\n",
        "%matplotlib inline\n",
        "import seaborn as sns\n",
        "import scipy.stats.stats as stats\n",
        "import collections\n",
        "import warnings; warnings.filterwarnings('ignore')\n",
        "from scipy.stats import chi2_contingency\n",
        "from scipy.stats import chi2\n",
        "import stat"
      ]
    },
    {
      "cell_type": "code",
      "execution_count": null,
      "id": "cfcf14ce",
      "metadata": {
        "id": "cfcf14ce",
        "outputId": "2e2c3a45-8edd-4888-d9a0-f57e5e5fe5c3"
      },
      "outputs": [
        {
          "data": {
            "text/html": [
              "<div>\n",
              "<style scoped>\n",
              "    .dataframe tbody tr th:only-of-type {\n",
              "        vertical-align: middle;\n",
              "    }\n",
              "\n",
              "    .dataframe tbody tr th {\n",
              "        vertical-align: top;\n",
              "    }\n",
              "\n",
              "    .dataframe thead th {\n",
              "        text-align: right;\n",
              "    }\n",
              "</style>\n",
              "<table border=\"1\" class=\"dataframe\">\n",
              "  <thead>\n",
              "    <tr style=\"text-align: right;\">\n",
              "      <th></th>\n",
              "      <th>houshold</th>\n",
              "      <th>brand_car</th>\n",
              "      <th>age_car_yr</th>\n",
              "      <th>Sum_Totprem_Auto</th>\n",
              "      <th>Cars</th>\n",
              "      <th>salard_Age_cus_HH</th>\n",
              "      <th>cus_tenure_mth</th>\n",
              "      <th>HH_tenure_mth</th>\n",
              "      <th>FA_DCT</th>\n",
              "      <th>Fc</th>\n",
              "      <th>FD</th>\n",
              "      <th>cs_flag_auto</th>\n",
              "      <th>zone</th>\n",
              "      <th>salary</th>\n",
              "      <th>rural_urban</th>\n",
              "      <th>fraud_Ind</th>\n",
              "    </tr>\n",
              "  </thead>\n",
              "  <tbody>\n",
              "    <tr>\n",
              "      <th>0</th>\n",
              "      <td>1</td>\n",
              "      <td>1</td>\n",
              "      <td>13</td>\n",
              "      <td>0.0</td>\n",
              "      <td>1</td>\n",
              "      <td>49</td>\n",
              "      <td>142</td>\n",
              "      <td>189</td>\n",
              "      <td>0</td>\n",
              "      <td>2</td>\n",
              "      <td>3</td>\n",
              "      <td>0</td>\n",
              "      <td>4</td>\n",
              "      <td>2693216</td>\n",
              "      <td>0</td>\n",
              "      <td>0</td>\n",
              "    </tr>\n",
              "    <tr>\n",
              "      <th>1</th>\n",
              "      <td>2</td>\n",
              "      <td>7</td>\n",
              "      <td>3</td>\n",
              "      <td>0.0</td>\n",
              "      <td>4</td>\n",
              "      <td>26</td>\n",
              "      <td>211</td>\n",
              "      <td>161</td>\n",
              "      <td>1</td>\n",
              "      <td>2</td>\n",
              "      <td>4</td>\n",
              "      <td>0</td>\n",
              "      <td>2</td>\n",
              "      <td>4384950</td>\n",
              "      <td>0</td>\n",
              "      <td>0</td>\n",
              "    </tr>\n",
              "    <tr>\n",
              "      <th>2</th>\n",
              "      <td>3</td>\n",
              "      <td>3</td>\n",
              "      <td>2</td>\n",
              "      <td>0.0</td>\n",
              "      <td>1</td>\n",
              "      <td>42</td>\n",
              "      <td>314</td>\n",
              "      <td>329</td>\n",
              "      <td>0</td>\n",
              "      <td>1</td>\n",
              "      <td>2</td>\n",
              "      <td>0</td>\n",
              "      <td>4</td>\n",
              "      <td>3089138</td>\n",
              "      <td>1</td>\n",
              "      <td>0</td>\n",
              "    </tr>\n",
              "    <tr>\n",
              "      <th>3</th>\n",
              "      <td>4</td>\n",
              "      <td>2</td>\n",
              "      <td>10</td>\n",
              "      <td>0.0</td>\n",
              "      <td>2</td>\n",
              "      <td>51</td>\n",
              "      <td>47</td>\n",
              "      <td>97</td>\n",
              "      <td>1</td>\n",
              "      <td>1</td>\n",
              "      <td>3</td>\n",
              "      <td>0</td>\n",
              "      <td>4</td>\n",
              "      <td>4295953</td>\n",
              "      <td>1</td>\n",
              "      <td>0</td>\n",
              "    </tr>\n",
              "    <tr>\n",
              "      <th>4</th>\n",
              "      <td>5</td>\n",
              "      <td>1</td>\n",
              "      <td>34</td>\n",
              "      <td>0.0</td>\n",
              "      <td>2</td>\n",
              "      <td>26</td>\n",
              "      <td>119</td>\n",
              "      <td>109</td>\n",
              "      <td>0</td>\n",
              "      <td>2</td>\n",
              "      <td>3</td>\n",
              "      <td>0</td>\n",
              "      <td>4</td>\n",
              "      <td>1317179</td>\n",
              "      <td>0</td>\n",
              "      <td>0</td>\n",
              "    </tr>\n",
              "  </tbody>\n",
              "</table>\n",
              "</div>"
            ],
            "text/plain": [
              "   houshold  brand_car  age_car_yr  Sum_Totprem_Auto  Cars  salard_Age_cus_HH  \\\n",
              "0         1          1          13               0.0     1                 49   \n",
              "1         2          7           3               0.0     4                 26   \n",
              "2         3          3           2               0.0     1                 42   \n",
              "3         4          2          10               0.0     2                 51   \n",
              "4         5          1          34               0.0     2                 26   \n",
              "\n",
              "   cus_tenure_mth  HH_tenure_mth  FA_DCT  Fc  FD  cs_flag_auto  zone   salary  \\\n",
              "0             142            189       0   2   3             0     4  2693216   \n",
              "1             211            161       1   2   4             0     2  4384950   \n",
              "2             314            329       0   1   2             0     4  3089138   \n",
              "3              47             97       1   1   3             0     4  4295953   \n",
              "4             119            109       0   2   3             0     4  1317179   \n",
              "\n",
              "   rural_urban  fraud_Ind  \n",
              "0            0          0  \n",
              "1            0          0  \n",
              "2            1          0  \n",
              "3            1          0  \n",
              "4            0          0  "
            ]
          },
          "execution_count": 125,
          "metadata": {},
          "output_type": "execute_result"
        }
      ],
      "source": [
        "df = pd.read_csv('D2C_pull2.xlsx - D2C_pull2.csv')\n",
        "df.head()"
      ]
    },
    {
      "cell_type": "code",
      "execution_count": null,
      "id": "6074887c",
      "metadata": {
        "id": "6074887c",
        "outputId": "f6aec487-0cfa-4bb7-9a41-7d549c1b5bac"
      },
      "outputs": [
        {
          "data": {
            "text/html": [
              "<div>\n",
              "<style scoped>\n",
              "    .dataframe tbody tr th:only-of-type {\n",
              "        vertical-align: middle;\n",
              "    }\n",
              "\n",
              "    .dataframe tbody tr th {\n",
              "        vertical-align: top;\n",
              "    }\n",
              "\n",
              "    .dataframe thead th {\n",
              "        text-align: right;\n",
              "    }\n",
              "</style>\n",
              "<table border=\"1\" class=\"dataframe\">\n",
              "  <thead>\n",
              "    <tr style=\"text-align: right;\">\n",
              "      <th></th>\n",
              "      <th>houshold</th>\n",
              "      <th>brand_car</th>\n",
              "      <th>age_car_yr</th>\n",
              "      <th>Sum_Totprem_Auto</th>\n",
              "      <th>Cars</th>\n",
              "      <th>salard_Age_cus_HH</th>\n",
              "      <th>cus_tenure_mth</th>\n",
              "      <th>HH_tenure_mth</th>\n",
              "      <th>FA_DCT</th>\n",
              "      <th>Fc</th>\n",
              "      <th>FD</th>\n",
              "      <th>cs_flag_auto</th>\n",
              "      <th>zone</th>\n",
              "      <th>salary</th>\n",
              "      <th>rural_urban</th>\n",
              "      <th>fraud_Ind</th>\n",
              "    </tr>\n",
              "  </thead>\n",
              "  <tbody>\n",
              "    <tr>\n",
              "      <th>8875</th>\n",
              "      <td>8876</td>\n",
              "      <td>7</td>\n",
              "      <td>1</td>\n",
              "      <td>0.0</td>\n",
              "      <td>2</td>\n",
              "      <td>39</td>\n",
              "      <td>58</td>\n",
              "      <td>73</td>\n",
              "      <td>0</td>\n",
              "      <td>1</td>\n",
              "      <td>1</td>\n",
              "      <td>0</td>\n",
              "      <td>1</td>\n",
              "      <td>1668770</td>\n",
              "      <td>0</td>\n",
              "      <td>0</td>\n",
              "    </tr>\n",
              "    <tr>\n",
              "      <th>8876</th>\n",
              "      <td>8877</td>\n",
              "      <td>7</td>\n",
              "      <td>22</td>\n",
              "      <td>0.0</td>\n",
              "      <td>2</td>\n",
              "      <td>33</td>\n",
              "      <td>189</td>\n",
              "      <td>202</td>\n",
              "      <td>0</td>\n",
              "      <td>1</td>\n",
              "      <td>3</td>\n",
              "      <td>0</td>\n",
              "      <td>1</td>\n",
              "      <td>1372083</td>\n",
              "      <td>0</td>\n",
              "      <td>0</td>\n",
              "    </tr>\n",
              "    <tr>\n",
              "      <th>8877</th>\n",
              "      <td>8878</td>\n",
              "      <td>7</td>\n",
              "      <td>14</td>\n",
              "      <td>0.0</td>\n",
              "      <td>1</td>\n",
              "      <td>35</td>\n",
              "      <td>173</td>\n",
              "      <td>158</td>\n",
              "      <td>0</td>\n",
              "      <td>3</td>\n",
              "      <td>1</td>\n",
              "      <td>0</td>\n",
              "      <td>1</td>\n",
              "      <td>1445592</td>\n",
              "      <td>0</td>\n",
              "      <td>0</td>\n",
              "    </tr>\n",
              "    <tr>\n",
              "      <th>8878</th>\n",
              "      <td>8879</td>\n",
              "      <td>4</td>\n",
              "      <td>7</td>\n",
              "      <td>0.0</td>\n",
              "      <td>1</td>\n",
              "      <td>46</td>\n",
              "      <td>7</td>\n",
              "      <td>12</td>\n",
              "      <td>0</td>\n",
              "      <td>3</td>\n",
              "      <td>2</td>\n",
              "      <td>0</td>\n",
              "      <td>1</td>\n",
              "      <td>2429949</td>\n",
              "      <td>1</td>\n",
              "      <td>0</td>\n",
              "    </tr>\n",
              "    <tr>\n",
              "      <th>8879</th>\n",
              "      <td>8880</td>\n",
              "      <td>1</td>\n",
              "      <td>7</td>\n",
              "      <td>0.0</td>\n",
              "      <td>4</td>\n",
              "      <td>40</td>\n",
              "      <td>146</td>\n",
              "      <td>122</td>\n",
              "      <td>2</td>\n",
              "      <td>1</td>\n",
              "      <td>1</td>\n",
              "      <td>0</td>\n",
              "      <td>6</td>\n",
              "      <td>1367223</td>\n",
              "      <td>1</td>\n",
              "      <td>0</td>\n",
              "    </tr>\n",
              "  </tbody>\n",
              "</table>\n",
              "</div>"
            ],
            "text/plain": [
              "      houshold  brand_car  age_car_yr  Sum_Totprem_Auto  Cars  \\\n",
              "8875      8876          7           1               0.0     2   \n",
              "8876      8877          7          22               0.0     2   \n",
              "8877      8878          7          14               0.0     1   \n",
              "8878      8879          4           7               0.0     1   \n",
              "8879      8880          1           7               0.0     4   \n",
              "\n",
              "      salard_Age_cus_HH  cus_tenure_mth  HH_tenure_mth  FA_DCT  Fc  FD  \\\n",
              "8875                 39              58             73       0   1   1   \n",
              "8876                 33             189            202       0   1   3   \n",
              "8877                 35             173            158       0   3   1   \n",
              "8878                 46               7             12       0   3   2   \n",
              "8879                 40             146            122       2   1   1   \n",
              "\n",
              "      cs_flag_auto  zone   salary  rural_urban  fraud_Ind  \n",
              "8875             0     1  1668770            0          0  \n",
              "8876             0     1  1372083            0          0  \n",
              "8877             0     1  1445592            0          0  \n",
              "8878             0     1  2429949            1          0  \n",
              "8879             0     6  1367223            1          0  "
            ]
          },
          "execution_count": 126,
          "metadata": {},
          "output_type": "execute_result"
        }
      ],
      "source": [
        "df.tail()"
      ]
    },
    {
      "cell_type": "code",
      "execution_count": null,
      "id": "314fda1b",
      "metadata": {
        "id": "314fda1b",
        "outputId": "43ad0511-8a9e-4385-c3c8-787761e2ae0a"
      },
      "outputs": [
        {
          "data": {
            "text/plain": [
              "(8880, 16)"
            ]
          },
          "execution_count": 127,
          "metadata": {},
          "output_type": "execute_result"
        }
      ],
      "source": [
        "df.shape"
      ]
    },
    {
      "cell_type": "code",
      "execution_count": null,
      "id": "edd5606c",
      "metadata": {
        "id": "edd5606c",
        "outputId": "c5822d02-aa4e-4260-b546-0ff31d770e64"
      },
      "outputs": [
        {
          "name": "stdout",
          "output_type": "stream",
          "text": [
            "<class 'pandas.core.frame.DataFrame'>\n",
            "RangeIndex: 8880 entries, 0 to 8879\n",
            "Data columns (total 16 columns):\n",
            " #   Column             Non-Null Count  Dtype  \n",
            "---  ------             --------------  -----  \n",
            " 0   houshold           8880 non-null   int64  \n",
            " 1   brand_car          8880 non-null   int64  \n",
            " 2   age_car_yr         8880 non-null   int64  \n",
            " 3   Sum_Totprem_Auto   8880 non-null   float64\n",
            " 4   Cars               8880 non-null   int64  \n",
            " 5   salard_Age_cus_HH  8880 non-null   int64  \n",
            " 6   cus_tenure_mth     8880 non-null   int64  \n",
            " 7   HH_tenure_mth      8880 non-null   int64  \n",
            " 8   FA_DCT             8880 non-null   int64  \n",
            " 9   Fc                 8880 non-null   int64  \n",
            " 10  FD                 8880 non-null   int64  \n",
            " 11  cs_flag_auto       8880 non-null   int64  \n",
            " 12  zone               8880 non-null   int64  \n",
            " 13  salary             8880 non-null   int64  \n",
            " 14  rural_urban        8880 non-null   int64  \n",
            " 15  fraud_Ind          8880 non-null   int64  \n",
            "dtypes: float64(1), int64(15)\n",
            "memory usage: 1.1 MB\n"
          ]
        }
      ],
      "source": [
        "df.info()"
      ]
    },
    {
      "cell_type": "code",
      "execution_count": null,
      "id": "305c0350",
      "metadata": {
        "id": "305c0350",
        "outputId": "d174db3e-8beb-4619-d869-5f938cc33a1f"
      },
      "outputs": [
        {
          "data": {
            "text/plain": [
              "Index(['houshold', 'brand_car', 'age_car_yr', 'Sum_Totprem_Auto', 'Cars',\n",
              "       'salard_Age_cus_HH', 'cus_tenure_mth', 'HH_tenure_mth', 'FA_DCT', 'Fc',\n",
              "       'FD', 'cs_flag_auto', 'zone', 'salary', 'rural_urban', 'fraud_Ind'],\n",
              "      dtype='object')"
            ]
          },
          "execution_count": 129,
          "metadata": {},
          "output_type": "execute_result"
        }
      ],
      "source": [
        "df.columns"
      ]
    },
    {
      "cell_type": "code",
      "execution_count": null,
      "id": "a1380199",
      "metadata": {
        "id": "a1380199",
        "outputId": "29b0f1e6-6d20-4d5f-a8ff-3f7375db7b01"
      },
      "outputs": [
        {
          "data": {
            "text/html": [
              "<div>\n",
              "<style scoped>\n",
              "    .dataframe tbody tr th:only-of-type {\n",
              "        vertical-align: middle;\n",
              "    }\n",
              "\n",
              "    .dataframe tbody tr th {\n",
              "        vertical-align: top;\n",
              "    }\n",
              "\n",
              "    .dataframe thead th {\n",
              "        text-align: right;\n",
              "    }\n",
              "</style>\n",
              "<table border=\"1\" class=\"dataframe\">\n",
              "  <thead>\n",
              "    <tr style=\"text-align: right;\">\n",
              "      <th></th>\n",
              "      <th>houshold</th>\n",
              "      <th>brand_car</th>\n",
              "      <th>age_car_yr</th>\n",
              "      <th>Sum_Totprem_Auto</th>\n",
              "      <th>Cars</th>\n",
              "      <th>salard_Age_cus_HH</th>\n",
              "      <th>cus_tenure_mth</th>\n",
              "      <th>HH_tenure_mth</th>\n",
              "      <th>FA_DCT</th>\n",
              "      <th>Fc</th>\n",
              "      <th>FD</th>\n",
              "      <th>cs_flag_auto</th>\n",
              "      <th>zone</th>\n",
              "      <th>salary</th>\n",
              "      <th>rural_urban</th>\n",
              "      <th>fraud_Ind</th>\n",
              "    </tr>\n",
              "  </thead>\n",
              "  <tbody>\n",
              "    <tr>\n",
              "      <th>count</th>\n",
              "      <td>8880.000000</td>\n",
              "      <td>8880.00000</td>\n",
              "      <td>8880.000000</td>\n",
              "      <td>8880.000000</td>\n",
              "      <td>8880.000000</td>\n",
              "      <td>8880.000000</td>\n",
              "      <td>8880.000000</td>\n",
              "      <td>8880.000000</td>\n",
              "      <td>8880.000000</td>\n",
              "      <td>8880.000000</td>\n",
              "      <td>8880.000000</td>\n",
              "      <td>8880.000000</td>\n",
              "      <td>8880.000000</td>\n",
              "      <td>8.880000e+03</td>\n",
              "      <td>8880.000000</td>\n",
              "      <td>8880.000000</td>\n",
              "    </tr>\n",
              "    <tr>\n",
              "      <th>mean</th>\n",
              "      <td>4440.500000</td>\n",
              "      <td>2.92973</td>\n",
              "      <td>12.048311</td>\n",
              "      <td>5787.717626</td>\n",
              "      <td>1.889189</td>\n",
              "      <td>37.072185</td>\n",
              "      <td>157.094932</td>\n",
              "      <td>186.257545</td>\n",
              "      <td>0.207207</td>\n",
              "      <td>2.321059</td>\n",
              "      <td>2.321059</td>\n",
              "      <td>0.128716</td>\n",
              "      <td>3.134347</td>\n",
              "      <td>3.006802e+06</td>\n",
              "      <td>0.207095</td>\n",
              "      <td>0.000676</td>\n",
              "    </tr>\n",
              "    <tr>\n",
              "      <th>std</th>\n",
              "      <td>2563.579529</td>\n",
              "      <td>2.08195</td>\n",
              "      <td>8.322616</td>\n",
              "      <td>21405.345175</td>\n",
              "      <td>1.011977</td>\n",
              "      <td>8.253493</td>\n",
              "      <td>91.138546</td>\n",
              "      <td>93.667195</td>\n",
              "      <td>0.405606</td>\n",
              "      <td>1.252530</td>\n",
              "      <td>1.252530</td>\n",
              "      <td>0.334904</td>\n",
              "      <td>1.539169</td>\n",
              "      <td>9.842636e+05</td>\n",
              "      <td>0.405247</td>\n",
              "      <td>0.025986</td>\n",
              "    </tr>\n",
              "    <tr>\n",
              "      <th>min</th>\n",
              "      <td>1.000000</td>\n",
              "      <td>1.00000</td>\n",
              "      <td>1.000000</td>\n",
              "      <td>0.000000</td>\n",
              "      <td>1.000000</td>\n",
              "      <td>25.000000</td>\n",
              "      <td>1.000000</td>\n",
              "      <td>12.000000</td>\n",
              "      <td>0.000000</td>\n",
              "      <td>1.000000</td>\n",
              "      <td>1.000000</td>\n",
              "      <td>0.000000</td>\n",
              "      <td>1.000000</td>\n",
              "      <td>1.301010e+06</td>\n",
              "      <td>0.000000</td>\n",
              "      <td>0.000000</td>\n",
              "    </tr>\n",
              "    <tr>\n",
              "      <th>25%</th>\n",
              "      <td>2220.750000</td>\n",
              "      <td>1.00000</td>\n",
              "      <td>6.000000</td>\n",
              "      <td>0.000000</td>\n",
              "      <td>1.000000</td>\n",
              "      <td>30.000000</td>\n",
              "      <td>84.000000</td>\n",
              "      <td>114.000000</td>\n",
              "      <td>0.000000</td>\n",
              "      <td>1.000000</td>\n",
              "      <td>1.000000</td>\n",
              "      <td>0.000000</td>\n",
              "      <td>2.000000</td>\n",
              "      <td>2.148496e+06</td>\n",
              "      <td>0.000000</td>\n",
              "      <td>0.000000</td>\n",
              "    </tr>\n",
              "    <tr>\n",
              "      <th>50%</th>\n",
              "      <td>4440.500000</td>\n",
              "      <td>2.00000</td>\n",
              "      <td>10.000000</td>\n",
              "      <td>0.000000</td>\n",
              "      <td>2.000000</td>\n",
              "      <td>37.000000</td>\n",
              "      <td>158.000000</td>\n",
              "      <td>188.000000</td>\n",
              "      <td>0.000000</td>\n",
              "      <td>2.000000</td>\n",
              "      <td>2.000000</td>\n",
              "      <td>0.000000</td>\n",
              "      <td>3.000000</td>\n",
              "      <td>3.007328e+06</td>\n",
              "      <td>0.000000</td>\n",
              "      <td>0.000000</td>\n",
              "    </tr>\n",
              "    <tr>\n",
              "      <th>75%</th>\n",
              "      <td>6660.250000</td>\n",
              "      <td>4.00000</td>\n",
              "      <td>17.000000</td>\n",
              "      <td>0.000000</td>\n",
              "      <td>2.000000</td>\n",
              "      <td>44.000000</td>\n",
              "      <td>232.000000</td>\n",
              "      <td>263.000000</td>\n",
              "      <td>0.000000</td>\n",
              "      <td>3.000000</td>\n",
              "      <td>3.000000</td>\n",
              "      <td>0.000000</td>\n",
              "      <td>4.000000</td>\n",
              "      <td>3.867612e+06</td>\n",
              "      <td>0.000000</td>\n",
              "      <td>0.000000</td>\n",
              "    </tr>\n",
              "    <tr>\n",
              "      <th>max</th>\n",
              "      <td>8880.000000</td>\n",
              "      <td>7.00000</td>\n",
              "      <td>43.000000</td>\n",
              "      <td>284100.600000</td>\n",
              "      <td>6.000000</td>\n",
              "      <td>51.000000</td>\n",
              "      <td>347.000000</td>\n",
              "      <td>360.000000</td>\n",
              "      <td>2.000000</td>\n",
              "      <td>6.000000</td>\n",
              "      <td>6.000000</td>\n",
              "      <td>1.000000</td>\n",
              "      <td>8.000000</td>\n",
              "      <td>4.701073e+06</td>\n",
              "      <td>1.000000</td>\n",
              "      <td>1.000000</td>\n",
              "    </tr>\n",
              "  </tbody>\n",
              "</table>\n",
              "</div>"
            ],
            "text/plain": [
              "          houshold   brand_car   age_car_yr  Sum_Totprem_Auto         Cars  \\\n",
              "count  8880.000000  8880.00000  8880.000000       8880.000000  8880.000000   \n",
              "mean   4440.500000     2.92973    12.048311       5787.717626     1.889189   \n",
              "std    2563.579529     2.08195     8.322616      21405.345175     1.011977   \n",
              "min       1.000000     1.00000     1.000000          0.000000     1.000000   \n",
              "25%    2220.750000     1.00000     6.000000          0.000000     1.000000   \n",
              "50%    4440.500000     2.00000    10.000000          0.000000     2.000000   \n",
              "75%    6660.250000     4.00000    17.000000          0.000000     2.000000   \n",
              "max    8880.000000     7.00000    43.000000     284100.600000     6.000000   \n",
              "\n",
              "       salard_Age_cus_HH  cus_tenure_mth  HH_tenure_mth       FA_DCT  \\\n",
              "count        8880.000000     8880.000000    8880.000000  8880.000000   \n",
              "mean           37.072185      157.094932     186.257545     0.207207   \n",
              "std             8.253493       91.138546      93.667195     0.405606   \n",
              "min            25.000000        1.000000      12.000000     0.000000   \n",
              "25%            30.000000       84.000000     114.000000     0.000000   \n",
              "50%            37.000000      158.000000     188.000000     0.000000   \n",
              "75%            44.000000      232.000000     263.000000     0.000000   \n",
              "max            51.000000      347.000000     360.000000     2.000000   \n",
              "\n",
              "                Fc           FD  cs_flag_auto         zone        salary  \\\n",
              "count  8880.000000  8880.000000   8880.000000  8880.000000  8.880000e+03   \n",
              "mean      2.321059     2.321059      0.128716     3.134347  3.006802e+06   \n",
              "std       1.252530     1.252530      0.334904     1.539169  9.842636e+05   \n",
              "min       1.000000     1.000000      0.000000     1.000000  1.301010e+06   \n",
              "25%       1.000000     1.000000      0.000000     2.000000  2.148496e+06   \n",
              "50%       2.000000     2.000000      0.000000     3.000000  3.007328e+06   \n",
              "75%       3.000000     3.000000      0.000000     4.000000  3.867612e+06   \n",
              "max       6.000000     6.000000      1.000000     8.000000  4.701073e+06   \n",
              "\n",
              "       rural_urban    fraud_Ind  \n",
              "count  8880.000000  8880.000000  \n",
              "mean      0.207095     0.000676  \n",
              "std       0.405247     0.025986  \n",
              "min       0.000000     0.000000  \n",
              "25%       0.000000     0.000000  \n",
              "50%       0.000000     0.000000  \n",
              "75%       0.000000     0.000000  \n",
              "max       1.000000     1.000000  "
            ]
          },
          "execution_count": 130,
          "metadata": {},
          "output_type": "execute_result"
        }
      ],
      "source": [
        "df.describe()"
      ]
    },
    {
      "cell_type": "code",
      "execution_count": null,
      "id": "695d37b7",
      "metadata": {
        "id": "695d37b7",
        "outputId": "cea05080-d82d-4871-db50-08379226c073"
      },
      "outputs": [
        {
          "data": {
            "text/plain": [
              "houshold             0\n",
              "brand_car            0\n",
              "age_car_yr           0\n",
              "Sum_Totprem_Auto     0\n",
              "Cars                 0\n",
              "salard_Age_cus_HH    0\n",
              "cus_tenure_mth       0\n",
              "HH_tenure_mth        0\n",
              "FA_DCT               0\n",
              "Fc                   0\n",
              "FD                   0\n",
              "cs_flag_auto         0\n",
              "zone                 0\n",
              "salary               0\n",
              "rural_urban          0\n",
              "fraud_Ind            0\n",
              "dtype: int64"
            ]
          },
          "execution_count": 131,
          "metadata": {},
          "output_type": "execute_result"
        }
      ],
      "source": [
        "df.isnull().sum()"
      ]
    },
    {
      "cell_type": "code",
      "execution_count": null,
      "id": "a82fc80f",
      "metadata": {
        "id": "a82fc80f",
        "outputId": "6b1a995e-9e60-4e27-afc1-03fe6ae9f839"
      },
      "outputs": [
        {
          "name": "stdout",
          "output_type": "stream",
          "text": [
            "0    7737\n",
            "1    1143\n",
            "Name: cs_flag_auto, dtype: int64\n",
            "2    2770\n",
            "1    2463\n",
            "7    1540\n",
            "3    1372\n",
            "4     559\n",
            "5     175\n",
            "6       1\n",
            "Name: brand_car, dtype: int64\n",
            "1    4003\n",
            "2    2770\n",
            "3    1372\n",
            "4     559\n",
            "5     175\n",
            "6       1\n",
            "Name: Cars, dtype: int64\n",
            "2    3039\n",
            "1    2615\n",
            "3    1838\n",
            "4     826\n",
            "6     290\n",
            "5     272\n",
            "Name: Fc, dtype: int64\n",
            "2    3039\n",
            "1    2615\n",
            "3    1838\n",
            "4     826\n",
            "6     290\n",
            "5     272\n",
            "Name: FD, dtype: int64\n",
            "3    2171\n",
            "4    2090\n",
            "1    1833\n",
            "2    1185\n",
            "5    1024\n",
            "6     439\n",
            "7     101\n",
            "8      37\n",
            "Name: zone, dtype: int64\n",
            "0    7041\n",
            "1    1839\n",
            "Name: rural_urban, dtype: int64\n"
          ]
        }
      ],
      "source": [
        "print(df['cs_flag_auto'].value_counts())\n",
        "print(df['brand_car'].value_counts())\n",
        "print(df['Cars'].value_counts())\n",
        "print(df['Fc'].value_counts())\n",
        "print(df['FD'].value_counts())\n",
        "print(df['zone'].value_counts())\n",
        "print(df['rural_urban'].value_counts())"
      ]
    },
    {
      "cell_type": "code",
      "execution_count": null,
      "id": "d1f3b98f",
      "metadata": {
        "id": "d1f3b98f",
        "outputId": "6b8a8d30-5723-498f-cc19-256095baea1b"
      },
      "outputs": [
        {
          "name": "stdout",
          "output_type": "stream",
          "text": [
            "0    87.128378\n",
            "1    12.871622\n",
            "Name: cs_flag_auto, dtype: float64\n"
          ]
        },
        {
          "data": {
            "image/png": "[encoded data removed]",
            "text/plain": [
              "<Figure size 432x288 with 1 Axes>"
            ]
          },
          "metadata": {},
          "output_type": "display_data"
        }
      ],
      "source": [
        "print(df['cs_flag_auto'].value_counts(normalize=True) * 100)\n",
        "df['cs_flag_auto'].value_counts().plot.pie(autopct='%1.1f%%',)\n",
        "plt.axis('equal')\n",
        "plt.show()"
      ]
    },
    {
      "cell_type": "code",
      "execution_count": null,
      "id": "3115778e",
      "metadata": {
        "id": "3115778e",
        "outputId": "234e1d00-1c0a-43b2-c3dd-2dabeb9d328d"
      },
      "outputs": [
        {
          "name": "stdout",
          "output_type": "stream",
          "text": [
            "2    31.193694\n",
            "1    27.736486\n",
            "7    17.342342\n",
            "3    15.450450\n",
            "4     6.295045\n",
            "5     1.970721\n",
            "6     0.011261\n",
            "Name: brand_car, dtype: float64\n",
            "Plot of brand_car\n"
          ]
        },
        {
          "data": {
            "image/png": "[encoded data removed]",
            "text/plain": [
              "<Figure size 432x288 with 1 Axes>"
            ]
          },
          "metadata": {
            "needs_background": "light"
          },
          "output_type": "display_data"
        }
      ],
      "source": [
        "print(df['brand_car'].value_counts(normalize=True) * 100)\n",
        "sns.countplot(df['brand_car'])\n",
        "print(\"Plot of brand_car\")"
      ]
    },
    {
      "cell_type": "code",
      "execution_count": null,
      "id": "25fd8dee",
      "metadata": {
        "id": "25fd8dee",
        "outputId": "1f44530c-5e9b-4c97-e758-1e6cc3b29ff5"
      },
      "outputs": [
        {
          "name": "stdout",
          "output_type": "stream",
          "text": [
            "1    45.078829\n",
            "2    31.193694\n",
            "3    15.450450\n",
            "4     6.295045\n",
            "5     1.970721\n",
            "6     0.011261\n",
            "Name: Cars, dtype: float64\n",
            "Plot of Cars\n"
          ]
        },
        {
          "data": {
            "image/png": "[encoded data removed]",
            "text/plain": [
              "<Figure size 432x288 with 1 Axes>"
            ]
          },
          "metadata": {
            "needs_background": "light"
          },
          "output_type": "display_data"
        }
      ],
      "source": [
        "print(df['Cars'].value_counts(normalize=True) * 100)\n",
        "sns.countplot(df['Cars'])\n",
        "print(\"Plot of Cars\")"
      ]
    },
    {
      "cell_type": "code",
      "execution_count": null,
      "id": "310ef230",
      "metadata": {
        "id": "310ef230",
        "outputId": "e2849c87-49d9-4156-f520-1545baec4e49"
      },
      "outputs": [
        {
          "name": "stdout",
          "output_type": "stream",
          "text": [
            "3    24.448198\n",
            "4    23.536036\n",
            "1    20.641892\n",
            "2    13.344595\n",
            "5    11.531532\n",
            "6     4.943694\n",
            "7     1.137387\n",
            "8     0.416667\n",
            "Name: zone, dtype: float64\n",
            "Plot of zone\n"
          ]
        },
        {
          "data": {
            "image/png": "[encoded data removed]",
            "text/plain": [
              "<Figure size 432x288 with 1 Axes>"
            ]
          },
          "metadata": {
            "needs_background": "light"
          },
          "output_type": "display_data"
        }
      ],
      "source": [
        "print(df['zone'].value_counts(normalize=True) * 100)\n",
        "sns.countplot(df['zone'])\n",
        "print(\"Plot of zone\")"
      ]
    },
    {
      "cell_type": "code",
      "execution_count": null,
      "id": "9297c355",
      "metadata": {
        "id": "9297c355",
        "outputId": "c1facc0b-902b-4f89-84ab-0f30a6a50857"
      },
      "outputs": [
        {
          "name": "stdout",
          "output_type": "stream",
          "text": [
            "0    79.290541\n",
            "1    20.709459\n",
            "Name: rural_urban, dtype: float64\n",
            "Plot of rural_urban\n"
          ]
        },
        {
          "data": {
            "image/png": "[encoded data removed]",
            "text/plain": [
              "<Figure size 432x288 with 1 Axes>"
            ]
          },
          "metadata": {
            "needs_background": "light"
          },
          "output_type": "display_data"
        }
      ],
      "source": [
        "print(df['rural_urban'].value_counts(normalize=True) * 100)\n",
        "sns.countplot(df['rural_urban'])\n",
        "print(\"Plot of rural_urban\")"
      ]
    },
    {
      "cell_type": "code",
      "execution_count": null,
      "id": "36947747",
      "metadata": {
        "id": "36947747",
        "outputId": "81278abd-1d23-495b-d20d-293c5a215d98"
      },
      "outputs": [
        {
          "name": "stdout",
          "output_type": "stream",
          "text": [
            "0    8874\n",
            "1       6\n",
            "Name: fraud_Ind, dtype: int64\n",
            "We observed that fraud occurs by policy holder\n"
          ]
        },
        {
          "data": {
            "image/png": "[encoded data removed]",
            "text/plain": [
              "<Figure size 415.25x360 with 1 Axes>"
            ]
          },
          "metadata": {
            "needs_background": "light"
          },
          "output_type": "display_data"
        }
      ],
      "source": [
        "print(df['fraud_Ind'].value_counts())\n",
        "sns.catplot(x=\"brand_car\", y=\"age_car_yr\", hue=\"fraud_Ind\", kind=\"swarm\", data=df)\n",
        "print(\"We observed that fraud occurs by policy holder\")"
      ]
    },
    {
      "cell_type": "code",
      "execution_count": null,
      "id": "46ad0f73",
      "metadata": {
        "id": "46ad0f73",
        "outputId": "59525500-4d6b-46c9-9d9d-a2209b08165c"
      },
      "outputs": [
        {
          "data": {
            "text/html": [
              "<div>\n",
              "<style scoped>\n",
              "    .dataframe tbody tr th:only-of-type {\n",
              "        vertical-align: middle;\n",
              "    }\n",
              "\n",
              "    .dataframe tbody tr th {\n",
              "        vertical-align: top;\n",
              "    }\n",
              "\n",
              "    .dataframe thead th {\n",
              "        text-align: right;\n",
              "    }\n",
              "</style>\n",
              "<table border=\"1\" class=\"dataframe\">\n",
              "  <thead>\n",
              "    <tr style=\"text-align: right;\">\n",
              "      <th>zone</th>\n",
              "      <th>1</th>\n",
              "      <th>2</th>\n",
              "      <th>3</th>\n",
              "      <th>4</th>\n",
              "      <th>5</th>\n",
              "      <th>6</th>\n",
              "      <th>7</th>\n",
              "      <th>8</th>\n",
              "    </tr>\n",
              "    <tr>\n",
              "      <th>cs_flag_auto</th>\n",
              "      <th></th>\n",
              "      <th></th>\n",
              "      <th></th>\n",
              "      <th></th>\n",
              "      <th></th>\n",
              "      <th></th>\n",
              "      <th></th>\n",
              "      <th></th>\n",
              "    </tr>\n",
              "  </thead>\n",
              "  <tbody>\n",
              "    <tr>\n",
              "      <th>0</th>\n",
              "      <td>1570</td>\n",
              "      <td>1070</td>\n",
              "      <td>1906</td>\n",
              "      <td>1804</td>\n",
              "      <td>894</td>\n",
              "      <td>388</td>\n",
              "      <td>77</td>\n",
              "      <td>28</td>\n",
              "    </tr>\n",
              "    <tr>\n",
              "      <th>1</th>\n",
              "      <td>263</td>\n",
              "      <td>115</td>\n",
              "      <td>265</td>\n",
              "      <td>286</td>\n",
              "      <td>130</td>\n",
              "      <td>51</td>\n",
              "      <td>24</td>\n",
              "      <td>9</td>\n",
              "    </tr>\n",
              "  </tbody>\n",
              "</table>\n",
              "</div>"
            ],
            "text/plain": [
              "zone             1     2     3     4    5    6   7   8\n",
              "cs_flag_auto                                          \n",
              "0             1570  1070  1906  1804  894  388  77  28\n",
              "1              263   115   265   286  130   51  24   9"
            ]
          },
          "execution_count": 139,
          "metadata": {},
          "output_type": "execute_result"
        }
      ],
      "source": [
        "pd.crosstab(df['cs_flag_auto'],df['zone'])"
      ]
    },
    {
      "cell_type": "code",
      "execution_count": null,
      "id": "e76fca2b",
      "metadata": {
        "id": "e76fca2b",
        "outputId": "2ada9cde-afd7-4b0b-cfbb-b884aad5d9a3"
      },
      "outputs": [
        {
          "data": {
            "text/plain": [
              "[Text(0.5, 1.0, 'cs_flag_auto vs zone')]"
            ]
          },
          "execution_count": 140,
          "metadata": {},
          "output_type": "execute_result"
        },
        {
          "data": {
            "image/png": "[encoded data removed]",
            "text/plain": [
              "<Figure size 936x360 with 1 Axes>"
            ]
          },
          "metadata": {
            "needs_background": "light"
          },
          "output_type": "display_data"
        }
      ],
      "source": [
        "plt.figure(figsize=(13,5))\n",
        "ax=sns.countplot(x='zone',hue='cs_flag_auto',data=df)\n",
        "\n",
        "ax.set(title=\"cs_flag_auto vs zone\")"
      ]
    },
    {
      "cell_type": "code",
      "execution_count": null,
      "id": "08a35bd6",
      "metadata": {
        "id": "08a35bd6",
        "outputId": "54fc70ba-525d-4bbc-f026-3e47f935f713"
      },
      "outputs": [
        {
          "name": "stdout",
          "output_type": "stream",
          "text": [
            "brand_car        1     2     3    4    5  6     7\n",
            "cs_flag_auto                                     \n",
            "0             2133  2409  1197  483  152  1  1362\n",
            "1              330   361   175   76   23  0   178\n"
          ]
        },
        {
          "data": {
            "text/plain": [
              "[Text(0.5, 1.0, 'cs_flag_auto vs brand_car')]"
            ]
          },
          "execution_count": 141,
          "metadata": {},
          "output_type": "execute_result"
        },
        {
          "data": {
            "image/png": "[encoded data removed]",
            "text/plain": [
              "<Figure size 936x360 with 1 Axes>"
            ]
          },
          "metadata": {
            "needs_background": "light"
          },
          "output_type": "display_data"
        }
      ],
      "source": [
        "print(pd.crosstab(df['cs_flag_auto'],df['brand_car']))\n",
        "plt.figure(figsize=(13,5))\n",
        "ax=sns.countplot(x='brand_car',hue='cs_flag_auto',data=df)\n",
        "\n",
        "ax.set(title=\"cs_flag_auto vs brand_car\")"
      ]
    },
    {
      "cell_type": "code",
      "execution_count": null,
      "id": "9b60ba95",
      "metadata": {
        "id": "9b60ba95",
        "outputId": "7a59e981-ac02-4d49-8953-581067e72901"
      },
      "outputs": [
        {
          "name": "stdout",
          "output_type": "stream",
          "text": [
            "rural_urban      0     1\n",
            "cs_flag_auto            \n",
            "0             6141  1596\n",
            "1              900   243\n"
          ]
        },
        {
          "data": {
            "text/plain": [
              "[Text(0.5, 1.0, 'cs_flag_auto vs rural_urban')]"
            ]
          },
          "execution_count": 142,
          "metadata": {},
          "output_type": "execute_result"
        },
        {
          "data": {
            "image/png": "[encoded data removed]",
            "text/plain": [
              "<Figure size 504x360 with 1 Axes>"
            ]
          },
          "metadata": {
            "needs_background": "light"
          },
          "output_type": "display_data"
        }
      ],
      "source": [
        "print(pd.crosstab(df['cs_flag_auto'],df['rural_urban']))\n",
        "plt.figure(figsize=(7,5))\n",
        "ax=sns.countplot(x='rural_urban',hue='cs_flag_auto',data=df)\n",
        "\n",
        "ax.set(title=\"cs_flag_auto vs rural_urban\")"
      ]
    },
    {
      "cell_type": "code",
      "execution_count": null,
      "id": "a712897d",
      "metadata": {
        "id": "a712897d",
        "outputId": "8365df62-7c20-4c52-8614-77eb7f8c7492"
      },
      "outputs": [
        {
          "name": "stdout",
          "output_type": "stream",
          "text": [
            "Cars             1     2     3    4    5  6\n",
            "cs_flag_auto                               \n",
            "0             3492  2407  1204  482  151  1\n",
            "1              511   363   168   77   24  0\n"
          ]
        },
        {
          "data": {
            "text/plain": [
              "[Text(0.5, 1.0, 'cs_flag_auto vs Cars')]"
            ]
          },
          "execution_count": 143,
          "metadata": {},
          "output_type": "execute_result"
        },
        {
          "data": {
            "image/png": "[encoded data removed]",
            "text/plain": [
              "<Figure size 936x360 with 1 Axes>"
            ]
          },
          "metadata": {
            "needs_background": "light"
          },
          "output_type": "display_data"
        }
      ],
      "source": [
        "print(pd.crosstab(df['cs_flag_auto'],df['Cars']))\n",
        "plt.figure(figsize=(13,5))\n",
        "ax=sns.countplot(x='Cars',hue='cs_flag_auto',data=df)\n",
        "\n",
        "ax.set(title=\"cs_flag_auto vs Cars\")"
      ]
    },
    {
      "cell_type": "markdown",
      "id": "241f6888",
      "metadata": {
        "id": "241f6888"
      },
      "source": [
        "# Anova Test"
      ]
    },
    {
      "cell_type": "code",
      "execution_count": null,
      "id": "92901a6c",
      "metadata": {
        "id": "92901a6c"
      },
      "outputs": [],
      "source": [
        "import statsmodels.api as sm\n",
        "from statsmodels.formula.api import ols"
      ]
    },
    {
      "cell_type": "code",
      "execution_count": null,
      "id": "2f19e543",
      "metadata": {
        "id": "2f19e543",
        "outputId": "65d46ca7-2d4e-496b-bd03-5cdb4053e7ac"
      },
      "outputs": [
        {
          "data": {
            "text/html": [
              "<table class=\"simpletable\">\n",
              "<caption>OLS Regression Results</caption>\n",
              "<tr>\n",
              "  <th>Dep. Variable:</th>      <td>cs_flag_auto</td>   <th>  R-squared:         </th> <td>   0.001</td>\n",
              "</tr>\n",
              "<tr>\n",
              "  <th>Model:</th>                   <td>OLS</td>       <th>  Adj. R-squared:    </th> <td>  -0.000</td>\n",
              "</tr>\n",
              "<tr>\n",
              "  <th>Method:</th>             <td>Least Squares</td>  <th>  F-statistic:       </th> <td>  0.8455</td>\n",
              "</tr>\n",
              "<tr>\n",
              "  <th>Date:</th>             <td>Sun, 24 Apr 2022</td> <th>  Prob (F-statistic):</th>  <td> 0.549</td> \n",
              "</tr>\n",
              "<tr>\n",
              "  <th>Time:</th>                 <td>14:22:17</td>     <th>  Log-Likelihood:    </th> <td> -2882.8</td>\n",
              "</tr>\n",
              "<tr>\n",
              "  <th>No. Observations:</th>      <td>  8880</td>      <th>  AIC:               </th> <td>   5782.</td>\n",
              "</tr>\n",
              "<tr>\n",
              "  <th>Df Residuals:</th>          <td>  8872</td>      <th>  BIC:               </th> <td>   5838.</td>\n",
              "</tr>\n",
              "<tr>\n",
              "  <th>Df Model:</th>              <td>     7</td>      <th>                     </th>     <td> </td>   \n",
              "</tr>\n",
              "<tr>\n",
              "  <th>Covariance Type:</th>      <td>nonrobust</td>    <th>                     </th>     <td> </td>   \n",
              "</tr>\n",
              "</table>\n",
              "<table class=\"simpletable\">\n",
              "<tr>\n",
              "       <td></td>          <th>coef</th>     <th>std err</th>      <th>t</th>      <th>P>|t|</th>  <th>[0.025</th>    <th>0.975]</th>  \n",
              "</tr>\n",
              "<tr>\n",
              "  <th>Intercept</th>   <td>    0.1163</td> <td>    0.015</td> <td>    7.655</td> <td> 0.000</td> <td>    0.087</td> <td>    0.146</td>\n",
              "</tr>\n",
              "<tr>\n",
              "  <th>brand_car</th>   <td>   -0.0027</td> <td>    0.002</td> <td>   -1.593</td> <td> 0.111</td> <td>   -0.006</td> <td>    0.001</td>\n",
              "</tr>\n",
              "<tr>\n",
              "  <th>Cars</th>        <td>    0.0010</td> <td>    0.004</td> <td>    0.281</td> <td> 0.779</td> <td>   -0.006</td> <td>    0.008</td>\n",
              "</tr>\n",
              "<tr>\n",
              "  <th>FA_DCT</th>      <td>   -0.0017</td> <td>    0.009</td> <td>   -0.198</td> <td> 0.843</td> <td>   -0.019</td> <td>    0.015</td>\n",
              "</tr>\n",
              "<tr>\n",
              "  <th>Fc</th>          <td>    0.0009</td> <td>    0.003</td> <td>    0.307</td> <td> 0.759</td> <td>   -0.005</td> <td>    0.006</td>\n",
              "</tr>\n",
              "<tr>\n",
              "  <th>FD</th>          <td>    0.0040</td> <td>    0.003</td> <td>    1.401</td> <td> 0.161</td> <td>   -0.002</td> <td>    0.010</td>\n",
              "</tr>\n",
              "<tr>\n",
              "  <th>zone</th>        <td>    0.0021</td> <td>    0.002</td> <td>    0.925</td> <td> 0.355</td> <td>   -0.002</td> <td>    0.007</td>\n",
              "</tr>\n",
              "<tr>\n",
              "  <th>rural_urban</th> <td>    0.0046</td> <td>    0.009</td> <td>    0.520</td> <td> 0.603</td> <td>   -0.013</td> <td>    0.022</td>\n",
              "</tr>\n",
              "</table>\n",
              "<table class=\"simpletable\">\n",
              "<tr>\n",
              "  <th>Omnibus:</th>       <td>3551.864</td> <th>  Durbin-Watson:     </th> <td>   0.158</td> \n",
              "</tr>\n",
              "<tr>\n",
              "  <th>Prob(Omnibus):</th>  <td> 0.000</td>  <th>  Jarque-Bera (JB):  </th> <td>10401.625</td>\n",
              "</tr>\n",
              "<tr>\n",
              "  <th>Skew:</th>           <td> 2.215</td>  <th>  Prob(JB):          </th> <td>    0.00</td> \n",
              "</tr>\n",
              "<tr>\n",
              "  <th>Kurtosis:</th>       <td> 5.913</td>  <th>  Cond. No.          </th> <td>    26.3</td> \n",
              "</tr>\n",
              "</table><br/><br/>Notes:<br/>[1] Standard Errors assume that the covariance matrix of the errors is correctly specified."
            ],
            "text/plain": [
              "<class 'statsmodels.iolib.summary.Summary'>\n",
              "\"\"\"\n",
              "                            OLS Regression Results                            \n",
              "==============================================================================\n",
              "Dep. Variable:           cs_flag_auto   R-squared:                       0.001\n",
              "Model:                            OLS   Adj. R-squared:                 -0.000\n",
              "Method:                 Least Squares   F-statistic:                    0.8455\n",
              "Date:                Sun, 24 Apr 2022   Prob (F-statistic):              0.549\n",
              "Time:                        14:22:17   Log-Likelihood:                -2882.8\n",
              "No. Observations:                8880   AIC:                             5782.\n",
              "Df Residuals:                    8872   BIC:                             5838.\n",
              "Df Model:                           7                                         \n",
              "Covariance Type:            nonrobust                                         \n",
              "===============================================================================\n",
              "                  coef    std err          t      P>|t|      [0.025      0.975]\n",
              "-------------------------------------------------------------------------------\n",
              "Intercept       0.1163      0.015      7.655      0.000       0.087       0.146\n",
              "brand_car      -0.0027      0.002     -1.593      0.111      -0.006       0.001\n",
              "Cars            0.0010      0.004      0.281      0.779      -0.006       0.008\n",
              "FA_DCT         -0.0017      0.009     -0.198      0.843      -0.019       0.015\n",
              "Fc              0.0009      0.003      0.307      0.759      -0.005       0.006\n",
              "FD              0.0040      0.003      1.401      0.161      -0.002       0.010\n",
              "zone            0.0021      0.002      0.925      0.355      -0.002       0.007\n",
              "rural_urban     0.0046      0.009      0.520      0.603      -0.013       0.022\n",
              "==============================================================================\n",
              "Omnibus:                     3551.864   Durbin-Watson:                   0.158\n",
              "Prob(Omnibus):                  0.000   Jarque-Bera (JB):            10401.625\n",
              "Skew:                           2.215   Prob(JB):                         0.00\n",
              "Kurtosis:                       5.913   Cond. No.                         26.3\n",
              "==============================================================================\n",
              "\n",
              "Notes:\n",
              "[1] Standard Errors assume that the covariance matrix of the errors is correctly specified.\n",
              "\"\"\""
            ]
          },
          "execution_count": 145,
          "metadata": {},
          "output_type": "execute_result"
        }
      ],
      "source": [
        " model = ols('cs_flag_auto~brand_car+Cars+FA_DCT+Fc+FD+zone+rural_urban', data=df).fit()\n",
        " model.summary()"
      ]
    },
    {
      "cell_type": "markdown",
      "id": "b6d4aa3e",
      "metadata": {
        "id": "b6d4aa3e"
      },
      "source": [
        "# chi-square test"
      ]
    },
    {
      "cell_type": "markdown",
      "id": "da7d1a88",
      "metadata": {
        "id": "da7d1a88"
      },
      "source": [
        "The Chi-square test is a non-parametric statistical test that enables us to understand the relationship between the categorical variables of the dataset. That is, it defines the correlation amongst the grouping categorical data.\n",
        "\n",
        "Using the Chi-square test, we can estimate the level of correlation i.e. association between the categorical variables of the dataset. This helps us analyze the dependence of one category of the variable on the other independent category of the variable."
      ]
    },
    {
      "cell_type": "code",
      "execution_count": null,
      "id": "4817c7b4",
      "metadata": {
        "id": "4817c7b4",
        "outputId": "13a2de23-42fa-47aa-b072-6ca9b88790a4"
      },
      "outputs": [
        {
          "name": "stdout",
          "output_type": "stream",
          "text": [
            "(6.490459570587847, 0.1653925009684403, 4)\n"
          ]
        }
      ],
      "source": [
        "from scipy.stats import chi2_contingency \n",
        "import numpy as np\n",
        "chisqt = pd.crosstab(df.zone, df.brand_car, margins=True)\n",
        "value = np.array([chisqt.iloc[0][0:5].values,\n",
        "                  chisqt.iloc[1][0:5].values])\n",
        "print(chi2_contingency(value)[0:3]) "
      ]
    },
    {
      "cell_type": "markdown",
      "id": "8401dfac",
      "metadata": {
        "id": "8401dfac"
      },
      "source": [
        " 0.1653 is the p-value, 6.4904 is the statistical value and 4 is the degree of freedom.\n",
        "As the p-value is greater than 0.05, we accept the NULL hypothesis and assume that the \n",
        "variables ‘zone’ and ‘brand_car’ are  independent of each other."
      ]
    },
    {
      "cell_type": "code",
      "execution_count": null,
      "id": "e9a29710",
      "metadata": {
        "id": "e9a29710",
        "outputId": "227915ad-a727-4cff-e2c6-1466a1593b11"
      },
      "outputs": [
        {
          "name": "stdout",
          "output_type": "stream",
          "text": [
            "(16.301384150346063, 0.002640300448326735, 4)\n"
          ]
        }
      ],
      "source": [
        "from scipy.stats import chi2_contingency \n",
        "import numpy as np\n",
        "chisqt = pd.crosstab(df.cs_flag_auto, df.zone, margins=True)\n",
        "value = np.array([chisqt.iloc[0][0:5].values,\n",
        "                  chisqt.iloc[1][0:5].values])\n",
        "print(chi2_contingency(value)[0:3]) "
      ]
    },
    {
      "cell_type": "markdown",
      "id": "a33fdd26",
      "metadata": {
        "id": "a33fdd26"
      },
      "source": [
        "0.0026 is the p-value, 16.301 is the statistical value and 4 is the degree of freedom.\n",
        "As the p-value is less than 0.05, we accept reject the NULL hypothesis and assume that the \n",
        "variables ‘cs_flag_auto’ and ‘zone’ are  not independent of each other."
      ]
    },
    {
      "cell_type": "code",
      "execution_count": null,
      "id": "ad6feaf7",
      "metadata": {
        "id": "ad6feaf7",
        "outputId": "fc4b8cbf-cd75-4fc1-9257-9dacc6edcb8d"
      },
      "outputs": [
        {
          "data": {
            "text/plain": [
              "Index(['houshold', 'brand_car', 'age_car_yr', 'Sum_Totprem_Auto', 'Cars',\n",
              "       'salard_Age_cus_HH', 'cus_tenure_mth', 'HH_tenure_mth', 'FA_DCT', 'Fc',\n",
              "       'FD', 'cs_flag_auto', 'zone', 'salary', 'rural_urban', 'fraud_Ind'],\n",
              "      dtype='object')"
            ]
          },
          "execution_count": 152,
          "metadata": {},
          "output_type": "execute_result"
        }
      ],
      "source": [
        "df.columns"
      ]
    },
    {
      "cell_type": "code",
      "execution_count": null,
      "id": "a3bbcf05",
      "metadata": {
        "id": "a3bbcf05"
      },
      "outputs": [],
      "source": [
        "from bioinfokit.analys import stat, get_data"
      ]
    },
    {
      "cell_type": "code",
      "execution_count": null,
      "id": "f3a4a634",
      "metadata": {
        "id": "f3a4a634",
        "outputId": "8a27ad7d-0bf3-405d-c21d-877675346df1"
      },
      "outputs": [
        {
          "name": "stdout",
          "output_type": "stream",
          "text": [
            "\n",
            "Chi-squared test for independence\n",
            "\n",
            "Test                Df    Chi-square    P-value\n",
            "--------------  ------  ------------  ---------\n",
            "Pearson         133185   7.7886e+08           0\n",
            "Log-likelihood  133185   2.75243e+08          0\n",
            "\n"
          ]
        }
      ],
      "source": [
        "res = stat()\n",
        "res.chisq(df=df)\n",
        "\n",
        "# output\n",
        "print(res.summary)"
      ]
    },
    {
      "cell_type": "markdown",
      "id": "99906ed7",
      "metadata": {
        "id": "99906ed7"
      },
      "source": [
        "# Model formation -Logistic Regression\n"
      ]
    },
    {
      "cell_type": "markdown",
      "id": "f39e7f8d",
      "metadata": {
        "id": "f39e7f8d"
      },
      "source": [
        "Sampling of the dataset Having loaded the dataset, let us now split the dataset into training and\n",
        "testing dataset using the train_test_split() function."
      ]
    },
    {
      "cell_type": "code",
      "execution_count": null,
      "id": "d8aaa24d",
      "metadata": {
        "id": "d8aaa24d"
      },
      "outputs": [],
      "source": [
        "from sklearn.model_selection import train_test_split \n",
        "X = df.drop(['cs_flag_auto'],axis=1) \n",
        "Y = df['cs_flag_auto'].astype(str)\n",
        "X_train, X_test, Y_train, Y_test = train_test_split(X, Y, test_size=.20, random_state=0)"
      ]
    },
    {
      "cell_type": "markdown",
      "id": "6d18817e",
      "metadata": {
        "id": "6d18817e"
      },
      "source": [
        "Defining Error metrics for the model\n",
        "Now, before moving towards the model building, let us define the error metrics which would help us analyze the model\n",
        "in a better manner."
      ]
    },
    {
      "cell_type": "code",
      "execution_count": null,
      "id": "629dbc83",
      "metadata": {
        "id": "629dbc83"
      },
      "outputs": [],
      "source": [
        "def err_metric(CM): \n",
        "     \n",
        "    TN = CM.iloc[0,0]\n",
        "    FN = CM.iloc[1,0]\n",
        "    TP = CM.iloc[1,1]\n",
        "    FP = CM.iloc[0,1]\n",
        "    precision =(TP)/(TP+FP)\n",
        "    accuracy_model  =(TP+TN)/(TP+TN+FP+FN)\n",
        "    recall_score  =(TP)/(TP+FN)\n",
        "    specificity_value =(TN)/(TN + FP)\n",
        "     \n",
        "    False_positive_rate =(FP)/(FP+TN)\n",
        "    False_negative_rate =(FN)/(FN+TP)\n",
        " \n",
        "    f1_score =2*(( precision * recall_score)/( precision + recall_score))\n",
        " \n",
        "    print(\"Precision value of the model: \",precision)\n",
        "    print(\"Accuracy of the model: \",accuracy_model)\n",
        "    print(\"Recall value of the model: \",recall_score)\n",
        "    print(\"Specificity of the model: \",specificity_value)\n",
        "    print(\"False Positive rate of the model: \",False_positive_rate)\n",
        "    print(\"False Negative rate of the model: \",False_negative_rate)\n",
        "    print(\"f1 score of the model: \",f1_score)"
      ]
    },
    {
      "cell_type": "markdown",
      "id": "b9df12a9",
      "metadata": {
        "id": "b9df12a9"
      },
      "source": [
        "Apply the model on the dataset Now it’s finally the time to perform model building on the datasets"
      ]
    },
    {
      "cell_type": "code",
      "execution_count": null,
      "id": "0a265c89",
      "metadata": {
        "id": "0a265c89"
      },
      "outputs": [],
      "source": [
        "from sklearn.linear_model import LogisticRegression"
      ]
    },
    {
      "cell_type": "code",
      "execution_count": null,
      "id": "b2c34c94",
      "metadata": {
        "id": "b2c34c94",
        "outputId": "96cf9325-7e54-4db1-f7c4-1995bb233f9b"
      },
      "outputs": [
        {
          "name": "stdout",
          "output_type": "stream",
          "text": [
            "Precision value of the model:  1.0\n",
            "Accuracy of the model:  0.9966216216216216\n",
            "Recall value of the model:  0.975609756097561\n",
            "Specificity of the model:  1.0\n",
            "False Positive rate of the model:  0.0\n",
            "False Negative rate of the model:  0.024390243902439025\n",
            "f1 score of the model:  0.9876543209876543\n"
          ]
        }
      ],
      "source": [
        "logit= LogisticRegression(class_weight='balanced' , random_state=0).fit(X_train,Y_train)\n",
        "target = logit.predict(X_test)\n",
        "CM_logit = pd.crosstab(Y_test,target)\n",
        "err_metric(CM_logit)"
      ]
    },
    {
      "cell_type": "code",
      "execution_count": null,
      "id": "078cc703",
      "metadata": {
        "id": "078cc703",
        "outputId": "60899473-2ca0-49fc-91f5-4fddcaf1abf3"
      },
      "outputs": [
        {
          "data": {
            "text/plain": [
              "LogisticRegression()"
            ]
          },
          "execution_count": 163,
          "metadata": {},
          "output_type": "execute_result"
        }
      ],
      "source": [
        "from sklearn.linear_model import LogisticRegression\n",
        "from sklearn import metrics\n",
        "X_train, X_test, Y_train, Y_test = train_test_split(X, y, test_size=0.3, random_state=0)\n",
        "logreg = LogisticRegression()\n",
        "logreg.fit(X_train, Y_train)"
      ]
    },
    {
      "cell_type": "code",
      "execution_count": null,
      "id": "d703dd13",
      "metadata": {
        "id": "d703dd13",
        "outputId": "16db1edb-746b-42a7-b98c-af9dd655a9cb"
      },
      "outputs": [
        {
          "name": "stdout",
          "output_type": "stream",
          "text": [
            "Accuracy of logistic regression classifier on test set: 1.00\n"
          ]
        }
      ],
      "source": [
        "y_pred = logreg.predict(X_test)\n",
        "print('Accuracy of logistic regression classifier on test set: {:.2f}'.format(logreg.score(X_test, Y_test)))"
      ]
    },
    {
      "cell_type": "code",
      "execution_count": null,
      "id": "251ae6be",
      "metadata": {
        "id": "251ae6be",
        "outputId": "883fde8a-b524-4229-8d9e-a3990f4fc91c"
      },
      "outputs": [
        {
          "name": "stdout",
          "output_type": "stream",
          "text": [
            "[[2314    0]\n",
            " [   9  341]]\n"
          ]
        }
      ],
      "source": [
        "from sklearn.metrics import confusion_matrix\n",
        "confusion_matrix = confusion_matrix(Y_test, y_pred)\n",
        "print(confusion_matrix)"
      ]
    },
    {
      "cell_type": "code",
      "execution_count": null,
      "id": "af31e2e1",
      "metadata": {
        "id": "af31e2e1",
        "outputId": "9428e450-5775-4d64-e43e-5137ee2e0ff3"
      },
      "outputs": [
        {
          "name": "stdout",
          "output_type": "stream",
          "text": [
            "              precision    recall  f1-score   support\n",
            "\n",
            "           0       1.00      1.00      1.00      2314\n",
            "           1       1.00      0.97      0.99       350\n",
            "\n",
            "    accuracy                           1.00      2664\n",
            "   macro avg       1.00      0.99      0.99      2664\n",
            "weighted avg       1.00      1.00      1.00      2664\n",
            "\n"
          ]
        }
      ],
      "source": [
        "from sklearn.metrics import classification_report\n",
        "print(classification_report(Y_test, y_pred))"
      ]
    },
    {
      "cell_type": "code",
      "execution_count": null,
      "id": "b1fa3d5d",
      "metadata": {
        "id": "b1fa3d5d",
        "outputId": "eb6ade30-daab-43aa-a142-2ad06cfcea1a"
      },
      "outputs": [
        {
          "data": {
            "image/png": "[encoded data removed]",
            "text/plain": [
              "<Figure size 432x288 with 1 Axes>"
            ]
          },
          "metadata": {
            "needs_background": "light"
          },
          "output_type": "display_data"
        }
      ],
      "source": [
        "from sklearn.metrics import roc_auc_score\n",
        "from sklearn.metrics import roc_curve\n",
        "logit_roc_auc = roc_auc_score(Y_test, logreg.predict(X_test))\n",
        "fpr, tpr, thresholds = roc_curve(Y_test, logreg.predict_proba(X_test)[:,1])\n",
        "plt.figure()\n",
        "plt.plot(fpr, tpr, label='Logistic Regression (area = %0.2f)' % logit_roc_auc)\n",
        "plt.plot([0, 1], [0, 1],'r--')\n",
        "plt.xlim([0.0, 1.0])\n",
        "plt.ylim([0.0, 1.05])\n",
        "plt.xlabel('False Positive Rate')\n",
        "plt.ylabel('True Positive Rate')\n",
        "plt.title('Receiver operating characteristic')\n",
        "plt.legend(loc=\"lower right\")\n",
        "plt.savefig('Log_ROC')\n",
        "plt.show()"
      ]
    },
    {
      "cell_type": "markdown",
      "id": "7f35005a",
      "metadata": {
        "id": "7f35005a"
      },
      "source": [
        "From Above,we observe that logistic Regression model is not suitable for motor insurance dataset so we check next model."
      ]
    },
    {
      "cell_type": "markdown",
      "id": "83b7b785",
      "metadata": {
        "id": "83b7b785"
      },
      "source": [
        "# Decision Tree"
      ]
    },
    {
      "cell_type": "code",
      "execution_count": null,
      "id": "faa2d912",
      "metadata": {
        "id": "faa2d912"
      },
      "outputs": [],
      "source": [
        "from sklearn.tree import DecisionTreeClassifier"
      ]
    },
    {
      "cell_type": "code",
      "execution_count": null,
      "id": "d2b8e02f",
      "metadata": {
        "id": "d2b8e02f"
      },
      "outputs": [],
      "source": [
        "data = pd.read_csv('D2C_pull2.xlsx - D2C_pull2.csv')"
      ]
    },
    {
      "cell_type": "code",
      "execution_count": null,
      "id": "ce752827",
      "metadata": {
        "id": "ce752827",
        "outputId": "42eba9b1-bc12-45dd-ba8c-5972d76b3532"
      },
      "outputs": [
        {
          "data": {
            "text/html": [
              "<div>\n",
              "<style scoped>\n",
              "    .dataframe tbody tr th:only-of-type {\n",
              "        vertical-align: middle;\n",
              "    }\n",
              "\n",
              "    .dataframe tbody tr th {\n",
              "        vertical-align: top;\n",
              "    }\n",
              "\n",
              "    .dataframe thead th {\n",
              "        text-align: right;\n",
              "    }\n",
              "</style>\n",
              "<table border=\"1\" class=\"dataframe\">\n",
              "  <thead>\n",
              "    <tr style=\"text-align: right;\">\n",
              "      <th></th>\n",
              "      <th>houshold</th>\n",
              "      <th>brand_car</th>\n",
              "      <th>age_car_yr</th>\n",
              "      <th>Sum_Totprem_Auto</th>\n",
              "      <th>Cars</th>\n",
              "      <th>salard_Age_cus_HH</th>\n",
              "      <th>cus_tenure_mth</th>\n",
              "      <th>HH_tenure_mth</th>\n",
              "      <th>FA_DCT</th>\n",
              "      <th>Fc</th>\n",
              "      <th>FD</th>\n",
              "      <th>cs_flag_auto</th>\n",
              "      <th>zone</th>\n",
              "      <th>salary</th>\n",
              "      <th>rural_urban</th>\n",
              "      <th>fraud_Ind</th>\n",
              "    </tr>\n",
              "  </thead>\n",
              "  <tbody>\n",
              "    <tr>\n",
              "      <th>0</th>\n",
              "      <td>1</td>\n",
              "      <td>1</td>\n",
              "      <td>13</td>\n",
              "      <td>0.0</td>\n",
              "      <td>1</td>\n",
              "      <td>49</td>\n",
              "      <td>142</td>\n",
              "      <td>189</td>\n",
              "      <td>0</td>\n",
              "      <td>2</td>\n",
              "      <td>3</td>\n",
              "      <td>0</td>\n",
              "      <td>4</td>\n",
              "      <td>2693216</td>\n",
              "      <td>0</td>\n",
              "      <td>0</td>\n",
              "    </tr>\n",
              "    <tr>\n",
              "      <th>1</th>\n",
              "      <td>2</td>\n",
              "      <td>7</td>\n",
              "      <td>3</td>\n",
              "      <td>0.0</td>\n",
              "      <td>4</td>\n",
              "      <td>26</td>\n",
              "      <td>211</td>\n",
              "      <td>161</td>\n",
              "      <td>1</td>\n",
              "      <td>2</td>\n",
              "      <td>4</td>\n",
              "      <td>0</td>\n",
              "      <td>2</td>\n",
              "      <td>4384950</td>\n",
              "      <td>0</td>\n",
              "      <td>0</td>\n",
              "    </tr>\n",
              "    <tr>\n",
              "      <th>2</th>\n",
              "      <td>3</td>\n",
              "      <td>3</td>\n",
              "      <td>2</td>\n",
              "      <td>0.0</td>\n",
              "      <td>1</td>\n",
              "      <td>42</td>\n",
              "      <td>314</td>\n",
              "      <td>329</td>\n",
              "      <td>0</td>\n",
              "      <td>1</td>\n",
              "      <td>2</td>\n",
              "      <td>0</td>\n",
              "      <td>4</td>\n",
              "      <td>3089138</td>\n",
              "      <td>1</td>\n",
              "      <td>0</td>\n",
              "    </tr>\n",
              "    <tr>\n",
              "      <th>3</th>\n",
              "      <td>4</td>\n",
              "      <td>2</td>\n",
              "      <td>10</td>\n",
              "      <td>0.0</td>\n",
              "      <td>2</td>\n",
              "      <td>51</td>\n",
              "      <td>47</td>\n",
              "      <td>97</td>\n",
              "      <td>1</td>\n",
              "      <td>1</td>\n",
              "      <td>3</td>\n",
              "      <td>0</td>\n",
              "      <td>4</td>\n",
              "      <td>4295953</td>\n",
              "      <td>1</td>\n",
              "      <td>0</td>\n",
              "    </tr>\n",
              "    <tr>\n",
              "      <th>4</th>\n",
              "      <td>5</td>\n",
              "      <td>1</td>\n",
              "      <td>34</td>\n",
              "      <td>0.0</td>\n",
              "      <td>2</td>\n",
              "      <td>26</td>\n",
              "      <td>119</td>\n",
              "      <td>109</td>\n",
              "      <td>0</td>\n",
              "      <td>2</td>\n",
              "      <td>3</td>\n",
              "      <td>0</td>\n",
              "      <td>4</td>\n",
              "      <td>1317179</td>\n",
              "      <td>0</td>\n",
              "      <td>0</td>\n",
              "    </tr>\n",
              "  </tbody>\n",
              "</table>\n",
              "</div>"
            ],
            "text/plain": [
              "   houshold  brand_car  age_car_yr  Sum_Totprem_Auto  Cars  salard_Age_cus_HH  \\\n",
              "0         1          1          13               0.0     1                 49   \n",
              "1         2          7           3               0.0     4                 26   \n",
              "2         3          3           2               0.0     1                 42   \n",
              "3         4          2          10               0.0     2                 51   \n",
              "4         5          1          34               0.0     2                 26   \n",
              "\n",
              "   cus_tenure_mth  HH_tenure_mth  FA_DCT  Fc  FD  cs_flag_auto  zone   salary  \\\n",
              "0             142            189       0   2   3             0     4  2693216   \n",
              "1             211            161       1   2   4             0     2  4384950   \n",
              "2             314            329       0   1   2             0     4  3089138   \n",
              "3              47             97       1   1   3             0     4  4295953   \n",
              "4             119            109       0   2   3             0     4  1317179   \n",
              "\n",
              "   rural_urban  fraud_Ind  \n",
              "0            0          0  \n",
              "1            0          0  \n",
              "2            1          0  \n",
              "3            1          0  \n",
              "4            0          0  "
            ]
          },
          "execution_count": 116,
          "metadata": {},
          "output_type": "execute_result"
        }
      ],
      "source": [
        "data.head()"
      ]
    },
    {
      "cell_type": "code",
      "execution_count": null,
      "id": "e0d74311",
      "metadata": {
        "id": "e0d74311",
        "outputId": "d5ec1e0d-98e9-4283-831c-9bb7edc05b66"
      },
      "outputs": [
        {
          "data": {
            "text/plain": [
              "Index(['houshold', 'brand_car', 'age_car_yr', 'Sum_Totprem_Auto', 'Cars',\n",
              "       'salard_Age_cus_HH', 'cus_tenure_mth', 'HH_tenure_mth', 'FA_DCT', 'Fc',\n",
              "       'FD', 'cs_flag_auto', 'zone', 'salary', 'rural_urban', 'fraud_Ind'],\n",
              "      dtype='object')"
            ]
          },
          "execution_count": 168,
          "metadata": {},
          "output_type": "execute_result"
        }
      ],
      "source": [
        "data.columns"
      ]
    },
    {
      "cell_type": "code",
      "execution_count": null,
      "id": "1a42b77a",
      "metadata": {
        "id": "1a42b77a"
      },
      "outputs": [],
      "source": [
        "X1 = data.drop(['cs_flag_auto'], axis=1)\n",
        "\n",
        "y1 = df['cs_flag_auto']"
      ]
    },
    {
      "cell_type": "code",
      "execution_count": null,
      "id": "32b031fa",
      "metadata": {
        "id": "32b031fa"
      },
      "outputs": [],
      "source": [
        "# split X and y into training and testing sets\n",
        "\n",
        "from sklearn.model_selection import train_test_split\n",
        "\n",
        "X1_train, X1_test, y1_train, y1_test = train_test_split(X1, y1, test_size = 0.3, random_state = 42)"
      ]
    },
    {
      "cell_type": "code",
      "execution_count": null,
      "id": "97d43f82",
      "metadata": {
        "id": "97d43f82",
        "outputId": "ef51bb84-5e55-482c-d745-65c2c3e5c6df"
      },
      "outputs": [
        {
          "data": {
            "text/plain": [
              "((6216, 15), (2664, 15))"
            ]
          },
          "execution_count": 171,
          "metadata": {},
          "output_type": "execute_result"
        }
      ],
      "source": [
        "# check the shape of X_train and X_test\n",
        "\n",
        "X1_train.shape, X1_test.shape"
      ]
    },
    {
      "cell_type": "code",
      "execution_count": null,
      "id": "859d4f7f",
      "metadata": {
        "id": "859d4f7f"
      },
      "outputs": [],
      "source": [
        "# import DecisionTreeClassifier\n",
        "\n",
        "from sklearn.tree import DecisionTreeClassifier"
      ]
    },
    {
      "cell_type": "code",
      "execution_count": null,
      "id": "0a359554",
      "metadata": {
        "id": "0a359554",
        "outputId": "4327feef-ee52-40c5-f79e-3da5a176cc9a"
      },
      "outputs": [
        {
          "data": {
            "text/plain": [
              "DecisionTreeClassifier(max_depth=3, random_state=0)"
            ]
          },
          "execution_count": 173,
          "metadata": {},
          "output_type": "execute_result"
        }
      ],
      "source": [
        "# instantiate the DecisionTreeClassifier model with criterion gini index\n",
        "\n",
        "clf_gini = DecisionTreeClassifier(criterion='gini', max_depth=3, random_state=0)\n",
        "\n",
        "\n",
        "# fit the model\n",
        "clf_gini.fit(X1_train, y1_train)"
      ]
    },
    {
      "cell_type": "code",
      "execution_count": null,
      "id": "61d300cc",
      "metadata": {
        "id": "61d300cc"
      },
      "outputs": [],
      "source": [
        "y1_pred_gini = clf_gini.predict(X1_test)"
      ]
    },
    {
      "cell_type": "markdown",
      "id": "0688cc40",
      "metadata": {
        "id": "0688cc40"
      },
      "source": [
        "# Check accuracy with Gini index"
      ]
    },
    {
      "cell_type": "code",
      "execution_count": null,
      "id": "d81e0fe3",
      "metadata": {
        "id": "d81e0fe3",
        "outputId": "ba3e37c4-235c-4d73-d055-f67700168687"
      },
      "outputs": [
        {
          "name": "stdout",
          "output_type": "stream",
          "text": [
            "Model accuracy score with criterion gini index: 0.9981\n"
          ]
        }
      ],
      "source": [
        "from sklearn.metrics import accuracy_score\n",
        "\n",
        "print('Model accuracy score with criterion gini index: {0:0.4f}'. format(accuracy_score(y1_test, y1_pred_gini)))"
      ]
    },
    {
      "cell_type": "code",
      "execution_count": null,
      "id": "dba66b6b",
      "metadata": {
        "id": "dba66b6b",
        "outputId": "b66cfa48-627e-4e30-8a97-9e1af5b4281a"
      },
      "outputs": [
        {
          "data": {
            "text/plain": [
              "array([0, 1, 0, ..., 0, 0, 1], dtype=int64)"
            ]
          },
          "execution_count": 176,
          "metadata": {},
          "output_type": "execute_result"
        }
      ],
      "source": [
        "# For test data\n",
        "y1_pred_train_gini = clf_gini.predict(X1_train)\n",
        "\n",
        "y1_pred_train_gini"
      ]
    },
    {
      "cell_type": "code",
      "execution_count": null,
      "id": "9e56cb99",
      "metadata": {
        "id": "9e56cb99",
        "outputId": "01e8b341-862f-4082-f5a2-2ce5a14370b8"
      },
      "outputs": [
        {
          "name": "stdout",
          "output_type": "stream",
          "text": [
            "Training-set accuracy score: 0.9981\n"
          ]
        }
      ],
      "source": [
        "print('Training-set accuracy score: {0:0.4f}'. format(accuracy_score(y1_train, y1_pred_train_gini)))"
      ]
    },
    {
      "cell_type": "markdown",
      "id": "9d6794d1",
      "metadata": {
        "id": "9d6794d1"
      },
      "source": [
        "# SVM classifier"
      ]
    },
    {
      "cell_type": "code",
      "execution_count": null,
      "id": "5f7b2ad3",
      "metadata": {
        "id": "5f7b2ad3"
      },
      "outputs": [],
      "source": [
        "import numpy as np\n",
        "import matplotlib.pyplot as plt\n",
        "import pandas as pd"
      ]
    },
    {
      "cell_type": "code",
      "execution_count": null,
      "id": "593449a1",
      "metadata": {
        "id": "593449a1"
      },
      "outputs": [],
      "source": [
        "data2 = pd.read_csv('D2C_pull2.xlsx - D2C_pull2.csv')"
      ]
    },
    {
      "cell_type": "code",
      "execution_count": null,
      "id": "5e5be524",
      "metadata": {
        "id": "5e5be524"
      },
      "outputs": [],
      "source": [
        "X2 = data2.drop(['cs_flag_auto'], axis=1)\n",
        "\n",
        "y2 = data2['cs_flag_auto']"
      ]
    },
    {
      "cell_type": "code",
      "execution_count": null,
      "id": "87668a6e",
      "metadata": {
        "id": "87668a6e"
      },
      "outputs": [],
      "source": [
        "from sklearn.model_selection import train_test_split\n",
        "\n",
        "X2_train, X2_test, y2_train, y2_test = train_test_split(X2, y2, test_size = 0.3, random_state = 0)"
      ]
    },
    {
      "cell_type": "code",
      "execution_count": null,
      "id": "ee9791e3",
      "metadata": {
        "id": "ee9791e3",
        "outputId": "f68cf711-b93b-4701-8570-1f9ad3b4c36e"
      },
      "outputs": [
        {
          "name": "stdout",
          "output_type": "stream",
          "text": [
            "Model accuracy score with linear kernel and C=1.0 : 0.9959\n"
          ]
        }
      ],
      "source": [
        "# instantiate classifier with linear kernel and C=1.0\n",
        "linear_svc=SVC(kernel='linear', C=1.0) \n",
        "# fit classifier to training set\n",
        "linear_svc.fit(X2_train,y2_train)\n",
        "# make predictions on test set\n",
        "y2_pred_test=linear_svc.predict(X2_test)\n",
        "\n",
        "\n",
        "# compute and print accuracy score\n",
        "print('Model accuracy score with linear kernel and C=1.0 : {0:0.4f}'. format(accuracy_score(y2_test, y2_pred_test)))"
      ]
    },
    {
      "cell_type": "markdown",
      "id": "84735434",
      "metadata": {
        "id": "84735434"
      },
      "source": [
        "# Compare the train-set and test-set accuracy with overfitting"
      ]
    },
    {
      "cell_type": "code",
      "execution_count": null,
      "id": "22aea690",
      "metadata": {
        "id": "22aea690",
        "outputId": "95cedc31-421a-45e9-c65c-e1d7cc12bb6c"
      },
      "outputs": [
        {
          "data": {
            "text/plain": [
              "array([1, 0, 0, ..., 0, 0, 0], dtype=int64)"
            ]
          },
          "execution_count": 205,
          "metadata": {},
          "output_type": "execute_result"
        }
      ],
      "source": [
        "y2_pred_train = linear_svc.predict(X2_train)\n",
        "\n",
        "y2_pred_train"
      ]
    },
    {
      "cell_type": "code",
      "execution_count": null,
      "id": "be377516",
      "metadata": {
        "id": "be377516",
        "outputId": "55c2621f-1fca-4149-da18-b5aba9072a9b"
      },
      "outputs": [
        {
          "name": "stdout",
          "output_type": "stream",
          "text": [
            "Training-set accuracy score: 0.9942\n"
          ]
        }
      ],
      "source": [
        "print('Training-set accuracy score: {0:0.4f}'. format(accuracy_score(y2_train, y2_pred_train)))"
      ]
    },
    {
      "cell_type": "code",
      "execution_count": null,
      "id": "15f4479b",
      "metadata": {
        "id": "15f4479b",
        "outputId": "e5dcdb25-1fe8-4e27-df42-d9b5fce2a5ad"
      },
      "outputs": [
        {
          "name": "stdout",
          "output_type": "stream",
          "text": [
            "Training set score: 0.9942\n",
            "Test set score: 0.9959\n"
          ]
        }
      ],
      "source": [
        "# print the scores on training and test set\n",
        "\n",
        "print('Training set score: {:.4f}'.format(linear_svc.score(X2_train, y2_train)))\n",
        "\n",
        "print('Test set score: {:.4f}'.format(linear_svc.score(X2_test, y2_test)))"
      ]
    },
    {
      "cell_type": "markdown",
      "id": "88bfcb4f",
      "metadata": {
        "id": "88bfcb4f"
      },
      "source": [
        "The training-set accuracy score is  0.9942 while the test-set accuracy to be  0.9959. \n",
        "These two values are quite comparable. So, there is no question of overfitting."
      ]
    },
    {
      "cell_type": "code",
      "execution_count": null,
      "id": "cf84a2a7",
      "metadata": {
        "id": "cf84a2a7",
        "outputId": "ad00683a-5407-4d82-f273-ccdc1228cc3f"
      },
      "outputs": [
        {
          "data": {
            "image/png": "[encoded data removed]",
            "text/plain": [
              "<Figure size 432x288 with 1 Axes>"
            ]
          },
          "metadata": {
            "needs_background": "light"
          },
          "output_type": "display_data"
        }
      ],
      "source": [
        "# plot ROC Curve\n",
        "\n",
        "from sklearn.metrics import roc_curve\n",
        "\n",
        "fpr, tpr, thresholds = roc_curve(y2_test, y2_pred_test)\n",
        "\n",
        "plt.figure(figsize=(6,4))\n",
        "\n",
        "plt.plot(fpr, tpr, linewidth=2)\n",
        "\n",
        "plt.plot([0,1], [0,1], 'k--' )\n",
        "\n",
        "plt.rcParams['font.size'] = 12\n",
        "\n",
        "plt.title('ROC curve for Predicting a Pulsar Star classifier')\n",
        "\n",
        "plt.xlabel('False Positive Rate (1 - Specificity)')\n",
        "\n",
        "plt.ylabel('True Positive Rate (Sensitivity)')\n",
        "\n",
        "plt.show()"
      ]
    },
    {
      "cell_type": "markdown",
      "id": "33484317",
      "metadata": {
        "id": "33484317"
      },
      "source": [
        "# Random Forest"
      ]
    },
    {
      "cell_type": "code",
      "execution_count": null,
      "id": "2103fc23",
      "metadata": {
        "id": "2103fc23"
      },
      "outputs": [],
      "source": [
        "import pandas as pd\n",
        "import numpy as np"
      ]
    },
    {
      "cell_type": "code",
      "execution_count": null,
      "id": "83e58e25",
      "metadata": {
        "id": "83e58e25"
      },
      "outputs": [],
      "source": [
        "data3 = pd.read_csv('D2C_pull2.xlsx - D2C_pull2.csv')"
      ]
    },
    {
      "cell_type": "code",
      "execution_count": null,
      "id": "ac6e2147",
      "metadata": {
        "id": "ac6e2147",
        "outputId": "2946d723-814b-4ef2-cf54-6a5469913f1c"
      },
      "outputs": [
        {
          "data": {
            "text/html": [
              "<div>\n",
              "<style scoped>\n",
              "    .dataframe tbody tr th:only-of-type {\n",
              "        vertical-align: middle;\n",
              "    }\n",
              "\n",
              "    .dataframe tbody tr th {\n",
              "        vertical-align: top;\n",
              "    }\n",
              "\n",
              "    .dataframe thead th {\n",
              "        text-align: right;\n",
              "    }\n",
              "</style>\n",
              "<table border=\"1\" class=\"dataframe\">\n",
              "  <thead>\n",
              "    <tr style=\"text-align: right;\">\n",
              "      <th></th>\n",
              "      <th>houshold</th>\n",
              "      <th>brand_car</th>\n",
              "      <th>age_car_yr</th>\n",
              "      <th>Sum_Totprem_Auto</th>\n",
              "      <th>Cars</th>\n",
              "      <th>salard_Age_cus_HH</th>\n",
              "      <th>cus_tenure_mth</th>\n",
              "      <th>HH_tenure_mth</th>\n",
              "      <th>FA_DCT</th>\n",
              "      <th>Fc</th>\n",
              "      <th>FD</th>\n",
              "      <th>cs_flag_auto</th>\n",
              "      <th>zone</th>\n",
              "      <th>salary</th>\n",
              "      <th>rural_urban</th>\n",
              "      <th>fraud_Ind</th>\n",
              "    </tr>\n",
              "  </thead>\n",
              "  <tbody>\n",
              "    <tr>\n",
              "      <th>0</th>\n",
              "      <td>1</td>\n",
              "      <td>1</td>\n",
              "      <td>13</td>\n",
              "      <td>0.0</td>\n",
              "      <td>1</td>\n",
              "      <td>49</td>\n",
              "      <td>142</td>\n",
              "      <td>189</td>\n",
              "      <td>0</td>\n",
              "      <td>2</td>\n",
              "      <td>3</td>\n",
              "      <td>0</td>\n",
              "      <td>4</td>\n",
              "      <td>2693216</td>\n",
              "      <td>0</td>\n",
              "      <td>0</td>\n",
              "    </tr>\n",
              "    <tr>\n",
              "      <th>1</th>\n",
              "      <td>2</td>\n",
              "      <td>7</td>\n",
              "      <td>3</td>\n",
              "      <td>0.0</td>\n",
              "      <td>4</td>\n",
              "      <td>26</td>\n",
              "      <td>211</td>\n",
              "      <td>161</td>\n",
              "      <td>1</td>\n",
              "      <td>2</td>\n",
              "      <td>4</td>\n",
              "      <td>0</td>\n",
              "      <td>2</td>\n",
              "      <td>4384950</td>\n",
              "      <td>0</td>\n",
              "      <td>0</td>\n",
              "    </tr>\n",
              "    <tr>\n",
              "      <th>2</th>\n",
              "      <td>3</td>\n",
              "      <td>3</td>\n",
              "      <td>2</td>\n",
              "      <td>0.0</td>\n",
              "      <td>1</td>\n",
              "      <td>42</td>\n",
              "      <td>314</td>\n",
              "      <td>329</td>\n",
              "      <td>0</td>\n",
              "      <td>1</td>\n",
              "      <td>2</td>\n",
              "      <td>0</td>\n",
              "      <td>4</td>\n",
              "      <td>3089138</td>\n",
              "      <td>1</td>\n",
              "      <td>0</td>\n",
              "    </tr>\n",
              "    <tr>\n",
              "      <th>3</th>\n",
              "      <td>4</td>\n",
              "      <td>2</td>\n",
              "      <td>10</td>\n",
              "      <td>0.0</td>\n",
              "      <td>2</td>\n",
              "      <td>51</td>\n",
              "      <td>47</td>\n",
              "      <td>97</td>\n",
              "      <td>1</td>\n",
              "      <td>1</td>\n",
              "      <td>3</td>\n",
              "      <td>0</td>\n",
              "      <td>4</td>\n",
              "      <td>4295953</td>\n",
              "      <td>1</td>\n",
              "      <td>0</td>\n",
              "    </tr>\n",
              "    <tr>\n",
              "      <th>4</th>\n",
              "      <td>5</td>\n",
              "      <td>1</td>\n",
              "      <td>34</td>\n",
              "      <td>0.0</td>\n",
              "      <td>2</td>\n",
              "      <td>26</td>\n",
              "      <td>119</td>\n",
              "      <td>109</td>\n",
              "      <td>0</td>\n",
              "      <td>2</td>\n",
              "      <td>3</td>\n",
              "      <td>0</td>\n",
              "      <td>4</td>\n",
              "      <td>1317179</td>\n",
              "      <td>0</td>\n",
              "      <td>0</td>\n",
              "    </tr>\n",
              "  </tbody>\n",
              "</table>\n",
              "</div>"
            ],
            "text/plain": [
              "   houshold  brand_car  age_car_yr  Sum_Totprem_Auto  Cars  salard_Age_cus_HH  \\\n",
              "0         1          1          13               0.0     1                 49   \n",
              "1         2          7           3               0.0     4                 26   \n",
              "2         3          3           2               0.0     1                 42   \n",
              "3         4          2          10               0.0     2                 51   \n",
              "4         5          1          34               0.0     2                 26   \n",
              "\n",
              "   cus_tenure_mth  HH_tenure_mth  FA_DCT  Fc  FD  cs_flag_auto  zone   salary  \\\n",
              "0             142            189       0   2   3             0     4  2693216   \n",
              "1             211            161       1   2   4             0     2  4384950   \n",
              "2             314            329       0   1   2             0     4  3089138   \n",
              "3              47             97       1   1   3             0     4  4295953   \n",
              "4             119            109       0   2   3             0     4  1317179   \n",
              "\n",
              "   rural_urban  fraud_Ind  \n",
              "0            0          0  \n",
              "1            0          0  \n",
              "2            1          0  \n",
              "3            1          0  \n",
              "4            0          0  "
            ]
          },
          "execution_count": 211,
          "metadata": {},
          "output_type": "execute_result"
        }
      ],
      "source": [
        "data3.head()"
      ]
    },
    {
      "cell_type": "code",
      "execution_count": null,
      "id": "79568ff3",
      "metadata": {
        "id": "79568ff3"
      },
      "outputs": [],
      "source": [
        "X3 = data3.drop(['cs_flag_auto'], axis=1)\n",
        "\n",
        "y3 = data3['cs_flag_auto']"
      ]
    },
    {
      "cell_type": "code",
      "execution_count": null,
      "id": "0debee50",
      "metadata": {
        "id": "0debee50"
      },
      "outputs": [],
      "source": [
        "from sklearn.model_selection import GridSearchCV,train_test_split\n",
        "X3_train,X3_test,y3_train,y3_test=train_test_split(X3,y3,test_size=0.3,random_state=10)"
      ]
    },
    {
      "cell_type": "code",
      "execution_count": null,
      "id": "e6121e09",
      "metadata": {
        "id": "e6121e09"
      },
      "outputs": [],
      "source": [
        "from sklearn.ensemble import RandomForestClassifier\n",
        "random_forest_model=RandomForestClassifier(random_state=10)\n",
        "random_forest_model.fit(X3_train,y3_train.ravel())\n",
        "prediction=random_forest_model.predict(X3_test)"
      ]
    },
    {
      "cell_type": "code",
      "execution_count": null,
      "id": "4807a031",
      "metadata": {
        "id": "4807a031",
        "outputId": "a861a67a-fa30-4f47-de33-9448caadd4ff"
      },
      "outputs": [
        {
          "name": "stdout",
          "output_type": "stream",
          "text": [
            "Accuracy = 0.995\n"
          ]
        }
      ],
      "source": [
        "# Accuracy of model \n",
        "from sklearn import metrics \n",
        "print(\"Accuracy = {0:.3f}\".format(metrics.accuracy_score(y3_test, prediction)))"
      ]
    },
    {
      "cell_type": "markdown",
      "id": "245b86c7",
      "metadata": {
        "id": "245b86c7"
      },
      "source": [
        "# KNN"
      ]
    },
    {
      "cell_type": "code",
      "execution_count": null,
      "id": "74aff346",
      "metadata": {
        "id": "74aff346"
      },
      "outputs": [],
      "source": [
        "import pandas as pd\n",
        "import numpy as np"
      ]
    },
    {
      "cell_type": "code",
      "execution_count": null,
      "id": "85239158",
      "metadata": {
        "id": "85239158"
      },
      "outputs": [],
      "source": [
        "data4 = pd.read_csv('D2C_pull2.xlsx - D2C_pull2.csv')"
      ]
    },
    {
      "cell_type": "code",
      "execution_count": null,
      "id": "fb80fb92",
      "metadata": {
        "id": "fb80fb92",
        "outputId": "8a62d513-244b-4aa3-85a4-fb5620f69785"
      },
      "outputs": [
        {
          "data": {
            "text/html": [
              "<div>\n",
              "<style scoped>\n",
              "    .dataframe tbody tr th:only-of-type {\n",
              "        vertical-align: middle;\n",
              "    }\n",
              "\n",
              "    .dataframe tbody tr th {\n",
              "        vertical-align: top;\n",
              "    }\n",
              "\n",
              "    .dataframe thead th {\n",
              "        text-align: right;\n",
              "    }\n",
              "</style>\n",
              "<table border=\"1\" class=\"dataframe\">\n",
              "  <thead>\n",
              "    <tr style=\"text-align: right;\">\n",
              "      <th></th>\n",
              "      <th>houshold</th>\n",
              "      <th>brand_car</th>\n",
              "      <th>age_car_yr</th>\n",
              "      <th>Sum_Totprem_Auto</th>\n",
              "      <th>Cars</th>\n",
              "      <th>salard_Age_cus_HH</th>\n",
              "      <th>cus_tenure_mth</th>\n",
              "      <th>HH_tenure_mth</th>\n",
              "      <th>FA_DCT</th>\n",
              "      <th>Fc</th>\n",
              "      <th>FD</th>\n",
              "      <th>cs_flag_auto</th>\n",
              "      <th>zone</th>\n",
              "      <th>salary</th>\n",
              "      <th>rural_urban</th>\n",
              "      <th>fraud_Ind</th>\n",
              "    </tr>\n",
              "  </thead>\n",
              "  <tbody>\n",
              "    <tr>\n",
              "      <th>0</th>\n",
              "      <td>1</td>\n",
              "      <td>1</td>\n",
              "      <td>13</td>\n",
              "      <td>0.0</td>\n",
              "      <td>1</td>\n",
              "      <td>49</td>\n",
              "      <td>142</td>\n",
              "      <td>189</td>\n",
              "      <td>0</td>\n",
              "      <td>2</td>\n",
              "      <td>3</td>\n",
              "      <td>0</td>\n",
              "      <td>4</td>\n",
              "      <td>2693216</td>\n",
              "      <td>0</td>\n",
              "      <td>0</td>\n",
              "    </tr>\n",
              "    <tr>\n",
              "      <th>1</th>\n",
              "      <td>2</td>\n",
              "      <td>7</td>\n",
              "      <td>3</td>\n",
              "      <td>0.0</td>\n",
              "      <td>4</td>\n",
              "      <td>26</td>\n",
              "      <td>211</td>\n",
              "      <td>161</td>\n",
              "      <td>1</td>\n",
              "      <td>2</td>\n",
              "      <td>4</td>\n",
              "      <td>0</td>\n",
              "      <td>2</td>\n",
              "      <td>4384950</td>\n",
              "      <td>0</td>\n",
              "      <td>0</td>\n",
              "    </tr>\n",
              "    <tr>\n",
              "      <th>2</th>\n",
              "      <td>3</td>\n",
              "      <td>3</td>\n",
              "      <td>2</td>\n",
              "      <td>0.0</td>\n",
              "      <td>1</td>\n",
              "      <td>42</td>\n",
              "      <td>314</td>\n",
              "      <td>329</td>\n",
              "      <td>0</td>\n",
              "      <td>1</td>\n",
              "      <td>2</td>\n",
              "      <td>0</td>\n",
              "      <td>4</td>\n",
              "      <td>3089138</td>\n",
              "      <td>1</td>\n",
              "      <td>0</td>\n",
              "    </tr>\n",
              "    <tr>\n",
              "      <th>3</th>\n",
              "      <td>4</td>\n",
              "      <td>2</td>\n",
              "      <td>10</td>\n",
              "      <td>0.0</td>\n",
              "      <td>2</td>\n",
              "      <td>51</td>\n",
              "      <td>47</td>\n",
              "      <td>97</td>\n",
              "      <td>1</td>\n",
              "      <td>1</td>\n",
              "      <td>3</td>\n",
              "      <td>0</td>\n",
              "      <td>4</td>\n",
              "      <td>4295953</td>\n",
              "      <td>1</td>\n",
              "      <td>0</td>\n",
              "    </tr>\n",
              "    <tr>\n",
              "      <th>4</th>\n",
              "      <td>5</td>\n",
              "      <td>1</td>\n",
              "      <td>34</td>\n",
              "      <td>0.0</td>\n",
              "      <td>2</td>\n",
              "      <td>26</td>\n",
              "      <td>119</td>\n",
              "      <td>109</td>\n",
              "      <td>0</td>\n",
              "      <td>2</td>\n",
              "      <td>3</td>\n",
              "      <td>0</td>\n",
              "      <td>4</td>\n",
              "      <td>1317179</td>\n",
              "      <td>0</td>\n",
              "      <td>0</td>\n",
              "    </tr>\n",
              "  </tbody>\n",
              "</table>\n",
              "</div>"
            ],
            "text/plain": [
              "   houshold  brand_car  age_car_yr  Sum_Totprem_Auto  Cars  salard_Age_cus_HH  \\\n",
              "0         1          1          13               0.0     1                 49   \n",
              "1         2          7           3               0.0     4                 26   \n",
              "2         3          3           2               0.0     1                 42   \n",
              "3         4          2          10               0.0     2                 51   \n",
              "4         5          1          34               0.0     2                 26   \n",
              "\n",
              "   cus_tenure_mth  HH_tenure_mth  FA_DCT  Fc  FD  cs_flag_auto  zone   salary  \\\n",
              "0             142            189       0   2   3             0     4  2693216   \n",
              "1             211            161       1   2   4             0     2  4384950   \n",
              "2             314            329       0   1   2             0     4  3089138   \n",
              "3              47             97       1   1   3             0     4  4295953   \n",
              "4             119            109       0   2   3             0     4  1317179   \n",
              "\n",
              "   rural_urban  fraud_Ind  \n",
              "0            0          0  \n",
              "1            0          0  \n",
              "2            1          0  \n",
              "3            1          0  \n",
              "4            0          0  "
            ]
          },
          "execution_count": 232,
          "metadata": {},
          "output_type": "execute_result"
        }
      ],
      "source": [
        "data4.head()"
      ]
    },
    {
      "cell_type": "code",
      "execution_count": null,
      "id": "999d7240",
      "metadata": {
        "id": "999d7240"
      },
      "outputs": [],
      "source": [
        "X4 = data4.drop(['cs_flag_auto'], axis=1)\n",
        "\n",
        "y4 = data4['cs_flag_auto']"
      ]
    },
    {
      "cell_type": "code",
      "execution_count": null,
      "id": "a314e4e9",
      "metadata": {
        "id": "a314e4e9"
      },
      "outputs": [],
      "source": [
        "from sklearn.model_selection import train_test_split\n",
        "X4_train, X4_test, y4_train, y4_test = train_test_split(X4, y4, test_size = 0.25, random_state = 0)"
      ]
    },
    {
      "cell_type": "code",
      "execution_count": null,
      "id": "9d36538d",
      "metadata": {
        "id": "9d36538d"
      },
      "outputs": [],
      "source": [
        "#feature scaling\n",
        "from sklearn.preprocessing import StandardScaler\n",
        "sc = StandardScaler()\n",
        "X4_train = sc.fit_transform(X4_train)\n",
        "X4_test = sc.transform(X4_test) #avoid data leakage"
      ]
    },
    {
      "cell_type": "code",
      "execution_count": null,
      "id": "d3064e62",
      "metadata": {
        "id": "d3064e62",
        "outputId": "023dd53a-4ed4-4e09-9825-5e990f05d0bb"
      },
      "outputs": [
        {
          "data": {
            "text/plain": [
              "KNeighborsClassifier()"
            ]
          },
          "execution_count": 236,
          "metadata": {},
          "output_type": "execute_result"
        }
      ],
      "source": [
        "from sklearn.neighbors import KNeighborsClassifier\n",
        "classifier = KNeighborsClassifier(n_neighbors = 5, metric = 'minkowski', p = 2)#The default metric is minkowski, and with p=2 is equivalent to the standard Euclidean metric.\n",
        "classifier.fit(X4_train, y4_train)"
      ]
    },
    {
      "cell_type": "code",
      "execution_count": null,
      "id": "f717bfac",
      "metadata": {
        "id": "f717bfac"
      },
      "outputs": [],
      "source": [
        "y4_pred = classifier.predict(X4_test)"
      ]
    },
    {
      "cell_type": "code",
      "execution_count": null,
      "id": "e32c6595",
      "metadata": {
        "id": "e32c6595"
      },
      "outputs": [],
      "source": [
        "predictions=model.predict(X4_test)#our model's predictions"
      ]
    },
    {
      "cell_type": "code",
      "execution_count": null,
      "id": "8b140c7b",
      "metadata": {
        "id": "8b140c7b",
        "outputId": "791474de-f634-4d9f-c996-88d30bdd9a2f"
      },
      "outputs": [
        {
          "data": {
            "text/plain": [
              "0.9234234234234234"
            ]
          },
          "execution_count": 239,
          "metadata": {},
          "output_type": "execute_result"
        }
      ],
      "source": [
        "from sklearn.metrics import confusion_matrix, accuracy_score\n",
        "cm = confusion_matrix(y4_test, y4_pred)\n",
        "\n",
        "accuracy_score(y4_test, y4_pred)"
      ]
    },
    {
      "cell_type": "code",
      "execution_count": null,
      "id": "23f622be",
      "metadata": {
        "id": "23f622be"
      },
      "outputs": [],
      "source": [
        ""
      ]
    },
    {
      "cell_type": "code",
      "execution_count": null,
      "id": "21319b6c",
      "metadata": {
        "id": "21319b6c"
      },
      "outputs": [],
      "source": [
        ""
      ]
    }
  ],
  "metadata": {
    "kernelspec": {
      "display_name": "Python 3 (ipykernel)",
      "language": "python",
      "name": "python3"
    },
    "language_info": {
      "codemirror_mode": {
        "name": "ipython",
        "version": 3
      },
      "file_extension": ".py",
      "mimetype": "text/x-python",
      "name": "python",
      "nbconvert_exporter": "python",
      "pygments_lexer": "ipython3",
      "version": "3.9.7"
    },
    "colab": {
      "name": "Motor_Insurance.ipynb",
      "provenance": [],
      "collapsed_sections": []
    }
  },
  "nbformat": 4,
  "nbformat_minor": 5
}